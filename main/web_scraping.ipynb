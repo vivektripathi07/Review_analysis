{
 "cells": [
  {
   "cell_type": "code",
   "execution_count": null,
   "metadata": {},
   "outputs": [],
   "source": [
    "import selenium\n",
    "from selenium import webdriver\n",
    "from selenium.webdriver.common.by import By\n",
    "from selenium.webdriver.chrome.service import Service\n",
    "from selenium.webdriver.chrome.options import Options\n",
    "from selenium.webdriver.common.action_chains import ActionChains\n",
    "from selenium.webdriver.common.keys import Keys\n",
    "from selenium.webdriver.support.ui import WebDriverWait\n",
    "from selenium.webdriver.support import expected_conditions as EC\n",
    "from selenium.webdriver.chrome.webdriver import WebDriver as ChromeWebDriver\n",
    "from selenium.common.exceptions import NoSuchElementException\n",
    "import csv\n",
    "import time\n",
    "import random\n",
    "import os"
   ]
  },
  {
   "cell_type": "code",
   "execution_count": 5,
   "metadata": {},
   "outputs": [],
   "source": [
    "options = Options()\n",
    "# options.add_argument(\"--headless\")\n",
    "options.add_argument(\"--no-sandbox\")\n",
    "options.add_argument(\"--disable-dev-shm-usage\")\n",
    "options.add_argument(\"--disable-gpu\")\n",
    "options.add_argument(\"--disable-infobars\")\n",
    "options.add_argument(\"--disable-extensions\")\n",
    "options.add_argument(\"--start-maximized\")\n",
    "options.add_argument(\"--disable-popup-blocking\")\n",
    "options.add_argument(\"--disable-notifications\")\n",
    "options.add_argument(\"--disable-application-cache\")\n",
    "options.add_argument(\"--disable-translate\")\n",
    "options.add_argument(\"--user-agent=Mozilla/5.0 (Windows NT 10.0; Win64; x64) AppleWebKit/537.36 (KHTML, like Gecko) Chrome/58.0.3029.110 Safari/537.3\")\n",
    "options.add_argument(\"--window-size=1920x1080\")\n",
    "options.add_argument(\"--remote-debugging-port=9222\")\n",
    "options.add_argument(\"--disable-web-security\")\n",
    "options.add_argument(\"--allow-running-insecure-content\")\n",
    "options.add_argument(\"--ignore-certificate-errors\")\n",
    "options.add_argument(\"--incognito\")\n",
    "options.add_argument(\"--lang=en-US\")\n"
   ]
  },
  {
   "cell_type": "code",
   "execution_count": null,
   "metadata": {},
   "outputs": [],
   "source": [
    "chrome_service = Service(r\"C:\\Users\\KUNAL VERMA\\.wdm\\drivers\\chromedriver\\win64\\133.0.6943.141\\chromedriver-win32\\chromedriver.exe\") \n",
    "# Update with your chromedriver path\n"
   ]
  },
  {
   "cell_type": "code",
   "execution_count": 7,
   "metadata": {},
   "outputs": [],
   "source": [
    "driver =  webdriver.Chrome(service=chrome_service, options=options)"
   ]
  },
  {
   "cell_type": "code",
   "execution_count": 11,
   "metadata": {},
   "outputs": [],
   "source": [
    "driver.get(\"https://ca.trustpilot.com/review/snowbirdadvisorinsurance.ca\")  # Open Indeed homepage"
   ]
  },
  {
   "cell_type": "code",
   "execution_count": 18,
   "metadata": {},
   "outputs": [
    {
     "name": "stdout",
     "output_type": "stream",
     "text": [
      "✅ Popup closed successfully!\n"
     ]
    }
   ],
   "source": [
    "def close_popup(driver):\n",
    "    try:\n",
    "        # Wait for the popup to appear (max 5 seconds)\n",
    "        popup_div = driver.find_element(By.XPATH, '//*[@id=\"onetrust-banner-sdk\"]')\n",
    "\n",
    "        # Find and click the \"Got it\" button\n",
    "        got_it_button = popup_div.find_element(By.ID, \"onetrust-accept-btn-handler\")\n",
    "        got_it_button.click()\n",
    "        print(\"✅ Popup closed successfully!\")\n",
    "\n",
    "    except NoSuchElementException:\n",
    "        print(\"⚠️ No popup found.\")\n",
    "    except Exception as e:\n",
    "        print(f\"❌ Error while closing popup: {e}\")\n",
    "\n",
    "# Call this function after opening the website\n",
    "close_popup(driver)"
   ]
  },
  {
   "cell_type": "code",
   "execution_count": 19,
   "metadata": {},
   "outputs": [
    {
     "name": "stdout",
     "output_type": "stream",
     "text": [
      "Title: Snowbird Advisor Insurance \n",
      "Reviews 5,366\n"
     ]
    }
   ],
   "source": [
    "title_div = driver.find_element(By.ID, 'business-unit-title')\n",
    "title = title_div.find_element(By.TAG_NAME, 'h1').text\n",
    "print(\"Title:\", title)"
   ]
  },
  {
   "cell_type": "code",
   "execution_count": 20,
   "metadata": {},
   "outputs": [
    {
     "name": "stdout",
     "output_type": "stream",
     "text": [
      "More filters\n"
     ]
    }
   ],
   "source": [
    "more_filter = driver.find_element(By.XPATH, '//*[@id=\"__next\"]/div/div/div/main/div/div[2]/div[2]/div[3]/div/div/div[2]/section[1]/div[1]/button')\n",
    "print(more_filter.text)  # Click on the \"Write a review\" button\n",
    "# print(more_filter.get_dom_attribute('parentElement'))\n",
    "# print(more_filter.get_attribute('innerHTML'))  # Click on the \"Write a review\" button\n",
    "more_filter.click()\n",
    "time.sleep(5)"
   ]
  },
  {
   "cell_type": "code",
   "execution_count": 9,
   "metadata": {},
   "outputs": [
    {
     "name": "stdout",
     "output_type": "stream",
     "text": [
      "\n"
     ]
    }
   ],
   "source": [
    "parent_varified = driver.find_element(By.XPATH, '//*[@id=\"filter-verified\"]')\n",
    "print(parent_varified.text)  # Click on the \"Write a review\" button\n",
    "parent_varified.click()"
   ]
  },
  {
   "cell_type": "code",
   "execution_count": 10,
   "metadata": {},
   "outputs": [
    {
     "name": "stdout",
     "output_type": "stream",
     "text": [
      "Show 5,220 reviews\n"
     ]
    }
   ],
   "source": [
    "show_results = driver.find_element(By.XPATH, '/html/body/div[4]/div[2]/div/div[3]/div/button[2]')\n",
    "print(show_results.text)  # Click on the \"Write a review\" button\n",
    "show_results.click()"
   ]
  },
  {
   "cell_type": "code",
   "execution_count": null,
   "metadata": {},
   "outputs": [],
   "source": [
    "\n",
    "\n",
    "# 🔹 Create CSV File and Write Header (Append Mode)\n",
    "csv_file = open(\"reviews3.csv\", \"a\", newline=\"\", encoding=\"utf-8\")\n",
    "csv_writer = csv.writer(csv_file)\n",
    "\n",
    "# 🔹 Define Human-Like Delay Function\n",
    "def human_delay(min_delay=random.randint(1,2), max_delay=random.randint(2,3)):\n",
    "    \"\"\"Pauses execution for a random duration between min_delay and max_delay seconds.\"\"\"\n",
    "    delay = random.randint(min_delay, max_delay)\n",
    "    # print(f\"⏳ Waiting {delay} seconds to mimic human behavior...\")\n",
    "    time.sleep(delay)\n",
    "\n",
    "# 🔹 Function to Scroll Inside a Scrollable Div\n",
    "def scroll_inside_reviews():\n",
    "    review_container = driver.find_element(By.XPATH, '//*[@id=\"__next\"]/div/div/div/main/div/div[2]/div[2]/div[3]/div/div/div[2]/section[2]/div[1]')  # Adjust class if needed\n",
    "    last_height = driver.execute_script(\"return arguments[0].scrollHeight;\", review_container)\n",
    "    \n",
    "    while True:\n",
    "        driver.execute_script(\"arguments[0].scrollTo(0, arguments[0].scrollHeight);\", review_container)\n",
    "        human_delay(1, 2)  # Wait for content to load\n",
    "        new_height = driver.execute_script(\"return arguments[0].scrollHeight;\", review_container)\n",
    "        \n",
    "        if new_height == last_height:  # Stop when no new content is loaded\n",
    "            break\n",
    "        last_height = new_height\n",
    "\n",
    "# 🔹 Loop Until No More Pages\n",
    "for i in range(1,101):\n",
    "    driver.get(f\"https://ca.trustpilot.com/review/snowbirdadvisorinsurance.ca?page={i}&verified=true\")\n",
    "\n",
    "    # 🔹 Scroll Inside the Reviews Section\n",
    "    scroll_inside_reviews()\n",
    "\n",
    "    # 🔹 Find All Review Cards\n",
    "    cards = driver.find_elements(By.CLASS_NAME, \"styles_cardWrapper__kOLEb\")\n",
    "    # print(f\"✅ Found {len(cards)} reviews on this page\")\n",
    "\n",
    "    for card in cards:\n",
    "        try:\n",
    "            driver.execute_script(\"arguments[0].scrollIntoView();\", card)  # Scroll to card\n",
    "            human_delay(1, 3)  # Random delay before extracting data\n",
    "\n",
    "            review_content = card.find_element(By.CLASS_NAME, \"styles_reviewContent__SCYfD\")\n",
    "            heading = review_content.find_element(By.TAG_NAME, 'a').text.strip()\n",
    "            review_text_elements = review_content.find_elements(By.TAG_NAME, 'p')\n",
    "            review_text = review_text_elements[0].text.strip() if review_text_elements else \"\"\n",
    "\n",
    "            # 🔹 Write Data to CSV\n",
    "            csv_writer.writerow([heading, review_text])\n",
    "            # print(f\"📌 Saved: {heading[:30]}...\")\n",
    "\n",
    "            human_delay(2, 3)  # Random delay after extracting data\n",
    "\n",
    "        except Exception as e:\n",
    "            print(f\"❌ Skipping a review due to error: {e}\")\n",
    "\n",
    "    \n",
    "csv_file.close()\n",
    "driver.quit()\n",
    "print(\"✅ All reviews saved to 'reviews.csv' successfully!\")\n"
   ]
  }
 ],
 "metadata": {
  "kernelspec": {
   "display_name": "Python 3",
   "language": "python",
   "name": "python3"
  },
  "language_info": {
   "codemirror_mode": {
    "name": "ipython",
    "version": 3
   },
   "file_extension": ".py",
   "mimetype": "text/x-python",
   "name": "python",
   "nbconvert_exporter": "python",
   "pygments_lexer": "ipython3",
   "version": "3.12.3"
  }
 },
 "nbformat": 4,
 "nbformat_minor": 2
}
