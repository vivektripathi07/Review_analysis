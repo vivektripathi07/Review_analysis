{
 "cells": [
  {
   "cell_type": "code",
   "execution_count": 24,
   "metadata": {},
   "outputs": [],
   "source": [
    "import pandas as pd\n",
    "import re\n",
    "import nltk\n",
    "from nltk.corpus import stopwords\n",
    "from nltk.stem import WordNetLemmatizer"
   ]
  },
  {
   "cell_type": "code",
   "execution_count": 2,
   "metadata": {},
   "outputs": [
    {
     "data": {
      "text/html": [
       "<div>\n",
       "<style scoped>\n",
       "    .dataframe tbody tr th:only-of-type {\n",
       "        vertical-align: middle;\n",
       "    }\n",
       "\n",
       "    .dataframe tbody tr th {\n",
       "        vertical-align: top;\n",
       "    }\n",
       "\n",
       "    .dataframe thead th {\n",
       "        text-align: right;\n",
       "    }\n",
       "</style>\n",
       "<table border=\"1\" class=\"dataframe\">\n",
       "  <thead>\n",
       "    <tr style=\"text-align: right;\">\n",
       "      <th></th>\n",
       "      <th>good rates,quick @easy,only took minutes</th>\n",
       "      <th>Date of experience: March 27, 2025</th>\n",
       "    </tr>\n",
       "  </thead>\n",
       "  <tbody>\n",
       "    <tr>\n",
       "      <th>0</th>\n",
       "      <td>good rates,quick @easy,only took minutes</td>\n",
       "      <td>Date of experience: March 27, 2025</td>\n",
       "    </tr>\n",
       "    <tr>\n",
       "      <th>1</th>\n",
       "      <td>Fast easy service....good prices.</td>\n",
       "      <td>Date of experience: March 26, 2025</td>\n",
       "    </tr>\n",
       "    <tr>\n",
       "      <th>2</th>\n",
       "      <td>Great service</td>\n",
       "      <td>Date of experience: March 26, 2025</td>\n",
       "    </tr>\n",
       "    <tr>\n",
       "      <th>3</th>\n",
       "      <td>No waiting time to reach a representative</td>\n",
       "      <td>No waiting time to reach a representative.\\nAn...</td>\n",
       "    </tr>\n",
       "    <tr>\n",
       "      <th>4</th>\n",
       "      <td>Superb service and rates better than most places</td>\n",
       "      <td>We have dealt with snowbird advisor insurance ...</td>\n",
       "    </tr>\n",
       "  </tbody>\n",
       "</table>\n",
       "</div>"
      ],
      "text/plain": [
       "           good rates,quick @easy,only took minutes  \\\n",
       "0          good rates,quick @easy,only took minutes   \n",
       "1                 Fast easy service....good prices.   \n",
       "2                                     Great service   \n",
       "3         No waiting time to reach a representative   \n",
       "4  Superb service and rates better than most places   \n",
       "\n",
       "                  Date of experience: March 27, 2025  \n",
       "0                 Date of experience: March 27, 2025  \n",
       "1                 Date of experience: March 26, 2025  \n",
       "2                 Date of experience: March 26, 2025  \n",
       "3  No waiting time to reach a representative.\\nAn...  \n",
       "4  We have dealt with snowbird advisor insurance ...  "
      ]
     },
     "execution_count": 2,
     "metadata": {},
     "output_type": "execute_result"
    }
   ],
   "source": [
    "df = pd.read_csv(\"reviews3.csv\")\n",
    "df.head()"
   ]
  },
  {
   "cell_type": "code",
   "execution_count": 3,
   "metadata": {},
   "outputs": [],
   "source": [
    "df = df.rename(columns={'good rates,quick @easy,only took minutes': 'title', 'Date of experience: March 27, 2025': 'review'})"
   ]
  },
  {
   "cell_type": "code",
   "execution_count": 4,
   "metadata": {},
   "outputs": [
    {
     "data": {
      "text/html": [
       "<div>\n",
       "<style scoped>\n",
       "    .dataframe tbody tr th:only-of-type {\n",
       "        vertical-align: middle;\n",
       "    }\n",
       "\n",
       "    .dataframe tbody tr th {\n",
       "        vertical-align: top;\n",
       "    }\n",
       "\n",
       "    .dataframe thead th {\n",
       "        text-align: right;\n",
       "    }\n",
       "</style>\n",
       "<table border=\"1\" class=\"dataframe\">\n",
       "  <thead>\n",
       "    <tr style=\"text-align: right;\">\n",
       "      <th></th>\n",
       "      <th>title</th>\n",
       "      <th>review</th>\n",
       "    </tr>\n",
       "  </thead>\n",
       "  <tbody>\n",
       "    <tr>\n",
       "      <th>0</th>\n",
       "      <td>good rates,quick @easy,only took minutes</td>\n",
       "      <td>Date of experience: March 27, 2025</td>\n",
       "    </tr>\n",
       "    <tr>\n",
       "      <th>1</th>\n",
       "      <td>Fast easy service....good prices.</td>\n",
       "      <td>Date of experience: March 26, 2025</td>\n",
       "    </tr>\n",
       "    <tr>\n",
       "      <th>2</th>\n",
       "      <td>Great service</td>\n",
       "      <td>Date of experience: March 26, 2025</td>\n",
       "    </tr>\n",
       "    <tr>\n",
       "      <th>3</th>\n",
       "      <td>No waiting time to reach a representative</td>\n",
       "      <td>No waiting time to reach a representative.\\nAn...</td>\n",
       "    </tr>\n",
       "    <tr>\n",
       "      <th>4</th>\n",
       "      <td>Superb service and rates better than most places</td>\n",
       "      <td>We have dealt with snowbird advisor insurance ...</td>\n",
       "    </tr>\n",
       "  </tbody>\n",
       "</table>\n",
       "</div>"
      ],
      "text/plain": [
       "                                              title  \\\n",
       "0          good rates,quick @easy,only took minutes   \n",
       "1                 Fast easy service....good prices.   \n",
       "2                                     Great service   \n",
       "3         No waiting time to reach a representative   \n",
       "4  Superb service and rates better than most places   \n",
       "\n",
       "                                              review  \n",
       "0                 Date of experience: March 27, 2025  \n",
       "1                 Date of experience: March 26, 2025  \n",
       "2                 Date of experience: March 26, 2025  \n",
       "3  No waiting time to reach a representative.\\nAn...  \n",
       "4  We have dealt with snowbird advisor insurance ...  "
      ]
     },
     "execution_count": 4,
     "metadata": {},
     "output_type": "execute_result"
    }
   ],
   "source": [
    "df.head()"
   ]
  },
  {
   "cell_type": "code",
   "execution_count": 5,
   "metadata": {},
   "outputs": [
    {
     "name": "stdout",
     "output_type": "stream",
     "text": [
      "243\n"
     ]
    }
   ],
   "source": [
    "count = df['review'].str.startswith(\"Date of experience\").sum()\n",
    "print(count)"
   ]
  },
  {
   "cell_type": "code",
   "execution_count": 6,
   "metadata": {},
   "outputs": [],
   "source": [
    "condition = df['review'].str.startswith(\"Date of experience\")\n",
    "df.loc[condition, 'review'] = df.loc[condition, 'title']"
   ]
  },
  {
   "cell_type": "code",
   "execution_count": 7,
   "metadata": {},
   "outputs": [
    {
     "data": {
      "text/html": [
       "<div>\n",
       "<style scoped>\n",
       "    .dataframe tbody tr th:only-of-type {\n",
       "        vertical-align: middle;\n",
       "    }\n",
       "\n",
       "    .dataframe tbody tr th {\n",
       "        vertical-align: top;\n",
       "    }\n",
       "\n",
       "    .dataframe thead th {\n",
       "        text-align: right;\n",
       "    }\n",
       "</style>\n",
       "<table border=\"1\" class=\"dataframe\">\n",
       "  <thead>\n",
       "    <tr style=\"text-align: right;\">\n",
       "      <th></th>\n",
       "      <th>title</th>\n",
       "      <th>review</th>\n",
       "    </tr>\n",
       "  </thead>\n",
       "  <tbody>\n",
       "    <tr>\n",
       "      <th>0</th>\n",
       "      <td>good rates,quick @easy,only took minutes</td>\n",
       "      <td>good rates,quick @easy,only took minutes</td>\n",
       "    </tr>\n",
       "    <tr>\n",
       "      <th>1</th>\n",
       "      <td>Fast easy service....good prices.</td>\n",
       "      <td>Fast easy service....good prices.</td>\n",
       "    </tr>\n",
       "    <tr>\n",
       "      <th>2</th>\n",
       "      <td>Great service</td>\n",
       "      <td>Great service</td>\n",
       "    </tr>\n",
       "    <tr>\n",
       "      <th>3</th>\n",
       "      <td>No waiting time to reach a representative</td>\n",
       "      <td>No waiting time to reach a representative.\\nAn...</td>\n",
       "    </tr>\n",
       "    <tr>\n",
       "      <th>4</th>\n",
       "      <td>Superb service and rates better than most places</td>\n",
       "      <td>We have dealt with snowbird advisor insurance ...</td>\n",
       "    </tr>\n",
       "  </tbody>\n",
       "</table>\n",
       "</div>"
      ],
      "text/plain": [
       "                                              title  \\\n",
       "0          good rates,quick @easy,only took minutes   \n",
       "1                 Fast easy service....good prices.   \n",
       "2                                     Great service   \n",
       "3         No waiting time to reach a representative   \n",
       "4  Superb service and rates better than most places   \n",
       "\n",
       "                                              review  \n",
       "0           good rates,quick @easy,only took minutes  \n",
       "1                  Fast easy service....good prices.  \n",
       "2                                      Great service  \n",
       "3  No waiting time to reach a representative.\\nAn...  \n",
       "4  We have dealt with snowbird advisor insurance ...  "
      ]
     },
     "execution_count": 7,
     "metadata": {},
     "output_type": "execute_result"
    }
   ],
   "source": [
    "df.head()"
   ]
  },
  {
   "cell_type": "code",
   "execution_count": 8,
   "metadata": {},
   "outputs": [],
   "source": [
    "df.drop(columns=['title'], inplace=True)"
   ]
  },
  {
   "cell_type": "code",
   "execution_count": 9,
   "metadata": {},
   "outputs": [
    {
     "data": {
      "text/html": [
       "<div>\n",
       "<style scoped>\n",
       "    .dataframe tbody tr th:only-of-type {\n",
       "        vertical-align: middle;\n",
       "    }\n",
       "\n",
       "    .dataframe tbody tr th {\n",
       "        vertical-align: top;\n",
       "    }\n",
       "\n",
       "    .dataframe thead th {\n",
       "        text-align: right;\n",
       "    }\n",
       "</style>\n",
       "<table border=\"1\" class=\"dataframe\">\n",
       "  <thead>\n",
       "    <tr style=\"text-align: right;\">\n",
       "      <th></th>\n",
       "      <th>review</th>\n",
       "    </tr>\n",
       "  </thead>\n",
       "  <tbody>\n",
       "    <tr>\n",
       "      <th>0</th>\n",
       "      <td>good rates,quick @easy,only took minutes</td>\n",
       "    </tr>\n",
       "    <tr>\n",
       "      <th>1</th>\n",
       "      <td>Fast easy service....good prices.</td>\n",
       "    </tr>\n",
       "    <tr>\n",
       "      <th>2</th>\n",
       "      <td>Great service</td>\n",
       "    </tr>\n",
       "    <tr>\n",
       "      <th>3</th>\n",
       "      <td>No waiting time to reach a representative.\\nAn...</td>\n",
       "    </tr>\n",
       "    <tr>\n",
       "      <th>4</th>\n",
       "      <td>We have dealt with snowbird advisor insurance ...</td>\n",
       "    </tr>\n",
       "  </tbody>\n",
       "</table>\n",
       "</div>"
      ],
      "text/plain": [
       "                                              review\n",
       "0           good rates,quick @easy,only took minutes\n",
       "1                  Fast easy service....good prices.\n",
       "2                                      Great service\n",
       "3  No waiting time to reach a representative.\\nAn...\n",
       "4  We have dealt with snowbird advisor insurance ..."
      ]
     },
     "execution_count": 9,
     "metadata": {},
     "output_type": "execute_result"
    }
   ],
   "source": [
    "df.head()"
   ]
  },
  {
   "cell_type": "code",
   "execution_count": 10,
   "metadata": {},
   "outputs": [
    {
     "name": "stdout",
     "output_type": "stream",
     "text": [
      "Rows with newline characters:\n",
      "                                                 review\n",
      "3     No waiting time to reach a representative.\\nAn...\n",
      "4     We have dealt with snowbird advisor insurance ...\n",
      "16    We have trusted Snowbird out of country health...\n",
      "19    People on the phone very helpful and knowledge...\n",
      "30                       Great customer service\\nPrices\n",
      "...                                                 ...\n",
      "1930  Great price, but not very clear on which one t...\n",
      "1940  Website is easy to understand and follow.\\nPre...\n",
      "1974  Knee replacement resulted in extra insurance c...\n",
      "1995  They were very helpful and curtious,also expla...\n",
      "1996  Very unclear about \"existing conditions\"?\\nDo ...\n",
      "\n",
      "[202 rows x 1 columns]\n"
     ]
    }
   ],
   "source": [
    "column_with_reviews = 'review'\n",
    "rows_with_newlines = df[df[column_with_reviews].str.contains('\\n') | df[column_with_reviews].str.contains('\\r\\n')]\n",
    "print(\"Rows with newline characters:\")\n",
    "print(rows_with_newlines)"
   ]
  },
  {
   "cell_type": "code",
   "execution_count": 11,
   "metadata": {},
   "outputs": [],
   "source": [
    "df[column_with_reviews] = df[column_with_reviews].str.replace('\\n', ' ', regex=True)\n",
    "df[column_with_reviews] = df[column_with_reviews].str.replace('\\r\\n', ' ', regex=True)"
   ]
  },
  {
   "cell_type": "code",
   "execution_count": 12,
   "metadata": {},
   "outputs": [],
   "source": [
    "def remove_non_letters(text):\n",
    "    return re.sub(r'[^a-zA-Z]', ' ', text)\n",
    "\n",
    "df['review'] = df['review'].apply(remove_non_letters)"
   ]
  },
  {
   "cell_type": "code",
   "execution_count": 13,
   "metadata": {},
   "outputs": [
    {
     "name": "stderr",
     "output_type": "stream",
     "text": [
      "<>:6: SyntaxWarning: invalid escape sequence '\\('\n",
      "<>:7: SyntaxWarning: invalid escape sequence '\\)'\n",
      "<>:6: SyntaxWarning: invalid escape sequence '\\('\n",
      "<>:7: SyntaxWarning: invalid escape sequence '\\)'\n",
      "C:\\Users\\HP\\AppData\\Local\\Temp\\ipykernel_21380\\303443749.py:6: SyntaxWarning: invalid escape sequence '\\('\n",
      "  df[column_with_reviews] = df[column_with_reviews].str.replace('\\(', '', regex=True)\n",
      "C:\\Users\\HP\\AppData\\Local\\Temp\\ipykernel_21380\\303443749.py:7: SyntaxWarning: invalid escape sequence '\\)'\n",
      "  df[column_with_reviews] = df[column_with_reviews].str.replace('\\)', '', regex=True)\n"
     ]
    }
   ],
   "source": [
    "column_with_reviews = 'review'\n",
    "df[column_with_reviews] = df[column_with_reviews].str.replace('“', '\"', regex=False)  # Replace opening curly quote\n",
    "df[column_with_reviews] = df[column_with_reviews].str.replace('”', '\"', regex=False)  # Replace closing curly quote\n",
    "df[column_with_reviews] = df[column_with_reviews].str.replace('\\'', '', regex=True)   \n",
    "df[column_with_reviews] = df[column_with_reviews].str.replace('\\\"', '', regex=True)\n",
    "df[column_with_reviews] = df[column_with_reviews].str.replace('\\(', '', regex=True)  \n",
    "df[column_with_reviews] = df[column_with_reviews].str.replace('\\)', '', regex=True)  "
   ]
  },
  {
   "cell_type": "code",
   "execution_count": 14,
   "metadata": {},
   "outputs": [],
   "source": [
    "df.to_csv(\"review_preprocessed.csv\", index=False)"
   ]
  },
  {
   "cell_type": "code",
   "execution_count": 15,
   "metadata": {},
   "outputs": [],
   "source": [
    "from vaderSentiment.vaderSentiment import SentimentIntensityAnalyzer"
   ]
  },
  {
   "cell_type": "code",
   "execution_count": 16,
   "metadata": {},
   "outputs": [],
   "source": [
    "obj = SentimentIntensityAnalyzer()"
   ]
  },
  {
   "cell_type": "code",
   "execution_count": 17,
   "metadata": {},
   "outputs": [],
   "source": [
    "def get_sentiment_score(text):\n",
    "    # Get the sentiment scores for the text\n",
    "    sentiment_scores = obj.polarity_scores(text)\n",
    "    compound_score = sentiment_scores['compound']\n",
    "    \n",
    "    # Map the compound score to discrete values\n",
    "    if compound_score > 0.05:\n",
    "        return 1  # Positive\n",
    "    elif compound_score < -0.05:\n",
    "        return -1  # Negative\n",
    "    else:\n",
    "        return 0  # Neutral"
   ]
  },
  {
   "cell_type": "code",
   "execution_count": 18,
   "metadata": {},
   "outputs": [],
   "source": [
    "df['score'] = df['review'].apply(get_sentiment_score)"
   ]
  },
  {
   "cell_type": "code",
   "execution_count": 19,
   "metadata": {},
   "outputs": [
    {
     "data": {
      "text/html": [
       "<div>\n",
       "<style scoped>\n",
       "    .dataframe tbody tr th:only-of-type {\n",
       "        vertical-align: middle;\n",
       "    }\n",
       "\n",
       "    .dataframe tbody tr th {\n",
       "        vertical-align: top;\n",
       "    }\n",
       "\n",
       "    .dataframe thead th {\n",
       "        text-align: right;\n",
       "    }\n",
       "</style>\n",
       "<table border=\"1\" class=\"dataframe\">\n",
       "  <thead>\n",
       "    <tr style=\"text-align: right;\">\n",
       "      <th></th>\n",
       "      <th>review</th>\n",
       "      <th>score</th>\n",
       "    </tr>\n",
       "  </thead>\n",
       "  <tbody>\n",
       "    <tr>\n",
       "      <th>0</th>\n",
       "      <td>good rates quick  easy only took minutes</td>\n",
       "      <td>1</td>\n",
       "    </tr>\n",
       "    <tr>\n",
       "      <th>1</th>\n",
       "      <td>Fast easy service    good prices</td>\n",
       "      <td>1</td>\n",
       "    </tr>\n",
       "    <tr>\n",
       "      <th>2</th>\n",
       "      <td>Great service</td>\n",
       "      <td>1</td>\n",
       "    </tr>\n",
       "    <tr>\n",
       "      <th>3</th>\n",
       "      <td>No waiting time to reach a representative  And...</td>\n",
       "      <td>1</td>\n",
       "    </tr>\n",
       "    <tr>\n",
       "      <th>4</th>\n",
       "      <td>We have dealt with snowbird advisor insurance ...</td>\n",
       "      <td>1</td>\n",
       "    </tr>\n",
       "  </tbody>\n",
       "</table>\n",
       "</div>"
      ],
      "text/plain": [
       "                                              review  score\n",
       "0           good rates quick  easy only took minutes      1\n",
       "1                  Fast easy service    good prices       1\n",
       "2                                      Great service      1\n",
       "3  No waiting time to reach a representative  And...      1\n",
       "4  We have dealt with snowbird advisor insurance ...      1"
      ]
     },
     "execution_count": 19,
     "metadata": {},
     "output_type": "execute_result"
    }
   ],
   "source": [
    "df.head()"
   ]
  },
  {
   "cell_type": "code",
   "execution_count": 20,
   "metadata": {},
   "outputs": [],
   "source": [
    "columns = df.columns.tolist()\n",
    "\n",
    "# Swap the first and second columns\n",
    "columns[0], columns[1] = columns[1], columns[0]\n",
    "\n",
    "# Reorder the DataFrame\n",
    "df = df[columns]"
   ]
  },
  {
   "cell_type": "code",
   "execution_count": 21,
   "metadata": {},
   "outputs": [],
   "source": [
    "df.to_csv(\"df_with_score.csv\", index=False)"
   ]
  },
  {
   "cell_type": "code",
   "execution_count": 32,
   "metadata": {},
   "outputs": [],
   "source": [
    "df_new = pd.read_csv(\"df_with_score_visualization.csv\")"
   ]
  },
  {
   "cell_type": "code",
   "execution_count": 33,
   "metadata": {},
   "outputs": [
    {
     "name": "stderr",
     "output_type": "stream",
     "text": [
      "[nltk_data] Downloading package stopwords to\n",
      "[nltk_data]     C:\\Users\\HP\\AppData\\Roaming\\nltk_data...\n",
      "[nltk_data]   Package stopwords is already up-to-date!\n",
      "[nltk_data] Downloading package wordnet to\n",
      "[nltk_data]     C:\\Users\\HP\\AppData\\Roaming\\nltk_data...\n",
      "[nltk_data]   Package wordnet is already up-to-date!\n",
      "[nltk_data] Downloading package omw-1.4 to\n",
      "[nltk_data]     C:\\Users\\HP\\AppData\\Roaming\\nltk_data...\n",
      "[nltk_data]   Package omw-1.4 is already up-to-date!\n"
     ]
    },
    {
     "data": {
      "text/plain": [
       "True"
      ]
     },
     "execution_count": 33,
     "metadata": {},
     "output_type": "execute_result"
    }
   ],
   "source": [
    "nltk.download('stopwords')\n",
    "nltk.download('wordnet')\n",
    "nltk.download('omw-1.4')"
   ]
  },
  {
   "cell_type": "code",
   "execution_count": 34,
   "metadata": {},
   "outputs": [],
   "source": [
    "lemmatizer = WordNetLemmatizer()\n",
    "stop_words = set(stopwords.words('english'))"
   ]
  },
  {
   "cell_type": "code",
   "execution_count": null,
   "metadata": {},
   "outputs": [
    {
     "name": "stdout",
     "output_type": "stream",
     "text": [
      "                                              review  \\\n",
      "0           good rates quick  easy only took minutes   \n",
      "1                  Fast easy service    good prices    \n",
      "2                                      Great service   \n",
      "3  No waiting time to reach a representative  And...   \n",
      "4  We have dealt with snowbird advisor insurance ...   \n",
      "\n",
      "                                           processed  \n",
      "0            [good, rate, quick, easy, took, minute]  \n",
      "1                 [fast, easy, service, good, price]  \n",
      "2                                   [great, service]  \n",
      "3  [waiting, time, reach, representative, represe...  \n",
      "4  [dealt, snowbird, advisor, insurance, several,...  \n"
     ]
    }
   ],
   "source": [
    "def preprocess_text(text):\n",
    "    text = text.lower()\n",
    "    text = re.sub(r'[^a-z\\s]', '', text)\n",
    "    tokens = text.split()\n",
    "    tokens = [lemmatizer.lemmatize(word) for word in tokens if word not in stop_words]\n",
    "    return tokens\n",
    "\n",
    "df_new['processed'] = df_new['review'].apply(preprocess_text)\n",
    "\n",
    "print(df_new[['review', 'processed']].head())"
   ]
  },
  {
   "cell_type": "code",
   "execution_count": 38,
   "metadata": {},
   "outputs": [],
   "source": [
    "from gensim.corpora import Dictionary\n",
    "from gensim.models import TfidfModel\n",
    "from gensim.matutils import corpus2dense"
   ]
  },
  {
   "cell_type": "code",
   "execution_count": null,
   "metadata": {},
   "outputs": [],
   "source": [
    "dictionary = Dictionary(df_new['processed'])\n",
    "\n",
    "dictionary.filter_extremes(no_below=5, no_above=0.5)\n",
    "\n",
    "corpus = [dictionary.doc2bow(text) for text in df_new['processed']]"
   ]
  },
  {
   "cell_type": "code",
   "execution_count": null,
   "metadata": {},
   "outputs": [
    {
     "name": "stdout",
     "output_type": "stream",
     "text": [
      "Topic 1: (0, '0.027*\"insurance\" + 0.025*\"helpful\" + 0.025*\"knowledgeable\" + 0.024*\"representative\" + 0.024*\"professional\" + 0.018*\"good\" + 0.017*\"question\" + 0.017*\"friendly\" + 0.015*\"easy\" + 0.015*\"well\"')\n",
      "Topic 2: (1, '0.072*\"service\" + 0.061*\"great\" + 0.040*\"easy\" + 0.034*\"price\" + 0.031*\"customer\" + 0.027*\"friendly\" + 0.026*\"good\" + 0.022*\"fast\" + 0.022*\"efficient\" + 0.021*\"excellent\"')\n",
      "Topic 3: (2, '0.117*\"easy\" + 0.041*\"insurance\" + 0.031*\"quick\" + 0.028*\"use\" + 0.028*\"price\" + 0.025*\"online\" + 0.022*\"travel\" + 0.019*\"quote\" + 0.019*\"process\" + 0.019*\"snowbird\"')\n",
      "Topic 4: (3, '0.054*\"helpful\" + 0.050*\"agent\" + 0.040*\"question\" + 0.029*\"phone\" + 0.022*\"knowledgeable\" + 0.021*\"answered\" + 0.020*\"person\" + 0.019*\"pleasant\" + 0.018*\"patient\" + 0.016*\"friendly\"')\n",
      "Topic 5: (4, '0.049*\"insurance\" + 0.026*\"travel\" + 0.018*\"time\" + 0.016*\"helpful\" + 0.016*\"company\" + 0.015*\"question\" + 0.014*\"health\" + 0.014*\"policy\" + 0.014*\"u\" + 0.014*\"knowledgeable\"')\n"
     ]
    }
   ],
   "source": [
    "from gensim.models import LdaModel\n",
    "\n",
    "lda_model = LdaModel(corpus=corpus, id2word=dictionary, num_topics=5, random_state=42, passes=10)\n",
    "\n",
    "topics = lda_model.print_topics(num_words=10)\n",
    "for idx, topic in enumerate(topics):\n",
    "    print(f\"Topic {idx + 1}: {topic}\")"
   ]
  },
  {
   "cell_type": "code",
   "execution_count": 42,
   "metadata": {},
   "outputs": [
    {
     "name": "stderr",
     "output_type": "stream",
     "text": [
      "c:\\Python312\\Lib\\site-packages\\joblib\\_utils.py:38: DeprecationWarning: ast.Num is deprecated and will be removed in Python 3.14; use ast.Constant instead\n",
      "  if isinstance(node, ast.Num):  # <number>\n",
      "c:\\Python312\\Lib\\site-packages\\joblib\\_utils.py:38: DeprecationWarning: ast.Num is deprecated and will be removed in Python 3.14; use ast.Constant instead\n",
      "  if isinstance(node, ast.Num):  # <number>\n",
      "c:\\Python312\\Lib\\site-packages\\joblib\\_utils.py:38: DeprecationWarning: ast.Num is deprecated and will be removed in Python 3.14; use ast.Constant instead\n",
      "  if isinstance(node, ast.Num):  # <number>\n",
      "c:\\Python312\\Lib\\site-packages\\joblib\\_utils.py:39: DeprecationWarning: Attribute n is deprecated and will be removed in Python 3.14; use value instead\n",
      "  return node.n\n",
      "c:\\Python312\\Lib\\site-packages\\joblib\\_utils.py:38: DeprecationWarning: ast.Num is deprecated and will be removed in Python 3.14; use ast.Constant instead\n",
      "  if isinstance(node, ast.Num):  # <number>\n",
      "c:\\Python312\\Lib\\site-packages\\joblib\\_utils.py:39: DeprecationWarning: Attribute n is deprecated and will be removed in Python 3.14; use value instead\n",
      "  return node.n\n"
     ]
    },
    {
     "data": {
      "text/html": [
       "\n",
       "<link rel=\"stylesheet\" type=\"text/css\" href=\"https://cdn.jsdelivr.net/gh/bmabey/pyLDAvis@3.4.0/pyLDAvis/js/ldavis.v1.0.0.css\">\n",
       "\n",
       "\n",
       "<div id=\"ldavis_el2138018053766816803084357856\" style=\"background-color:white;\"></div>\n",
       "<script type=\"text/javascript\">\n",
       "\n",
       "var ldavis_el2138018053766816803084357856_data = {\"mdsDat\": {\"x\": [0.17776059863599603, -0.028719780788189122, -0.1806415783843919, -0.07668952414667309, 0.10829028468325792], \"y\": [-0.052280912660256626, -0.1356956447042409, 0.06839463179068118, -0.025957917616011163, 0.14553984318982763], \"topics\": [1, 2, 3, 4, 5], \"cluster\": [1, 1, 1, 1, 1], \"Freq\": [24.6645852294243, 22.101700283973802, 19.827213871417054, 17.621319700702042, 15.7851809144828]}, \"tinfo\": {\"Term\": [\"easy\", \"service\", \"great\", \"agent\", \"helpful\", \"quick\", \"customer\", \"insurance\", \"price\", \"use\", \"friendly\", \"phone\", \"fast\", \"representative\", \"professional\", \"person\", \"online\", \"efficient\", \"navigate\", \"travel\", \"question\", \"answered\", \"patient\", \"knowledgeable\", \"competitive\", \"pricing\", \"snowbird\", \"thorough\", \"claim\", \"website\", \"navigate\", \"never\", \"site\", \"yet\", \"website\", \"access\", \"claim\", \"third\", \"web\", \"used\", \"discount\", \"book\", \"quick\", \"use\", \"straightforward\", \"compared\", \"hopefully\", \"easy\", \"fair\", \"provider\", \"online\", \"apply\", \"affordable\", \"instant\", \"big\", \"receive\", \"insurer\", \"complete\", \"snow\", \"bird\", \"home\", \"hope\", \"obtain\", \"purchase\", \"competitive\", \"work\", \"quote\", \"application\", \"snowbird\", \"price\", \"insurance\", \"travel\", \"process\", \"advisor\", \"best\", \"year\", \"reasonable\", \"cost\", \"get\", \"rate\", \"understand\", \"simple\", \"policy\", \"good\", \"issue\", \"cover\", \"yes\", \"may\", \"detail\", \"gentleman\", \"week\", \"rating\", \"ashley\", \"nicholas\", \"canada\", \"holiday\", \"perfect\", \"health\", \"said\", \"credit\", \"comparable\", \"prior\", \"manulife\", \"cannot\", \"full\", \"something\", \"collette\", \"since\", \"almost\", \"day\", \"due\", \"within\", \"purchasing\", \"stable\", \"one\", \"like\", \"plan\", \"called\", \"card\", \"existing\", \"pre\", \"top\", \"husband\", \"staff\", \"insurance\", \"travel\", \"second\", \"u\", \"company\", \"condition\", \"purchased\", \"time\", \"year\", \"policy\", \"back\", \"feel\", \"call\", \"medical\", \"would\", \"knowledgeable\", \"question\", \"helpful\", \"snowbird\", \"need\", \"agent\", \"price\", \"coverage\", \"best\", \"good\", \"straight\", \"forward\", \"ability\", \"sense\", \"talking\", \"immediately\", \"requested\", \"rather\", \"wait\", \"patient\", \"promptly\", \"document\", \"concise\", \"conversation\", \"explain\", \"talked\", \"understanding\", \"knowledgable\", \"knowledge\", \"explaining\", \"person\", \"young\", \"english\", \"phone\", \"crystal\", \"point\", \"completed\", \"agent\", \"speak\", \"speaking\", \"pleasant\", \"answered\", \"thing\", \"helpful\", \"lady\", \"question\", \"spoke\", \"rep\", \"clear\", \"everything\", \"took\", \"explained\", \"knowledgeable\", \"call\", \"also\", \"friendly\", \"efficient\", \"time\", \"made\", \"experience\", \"informative\", \"professional\", \"courteous\", \"u\", \"quote\", \"process\", \"good\", \"knew\", \"personnel\", \"reliable\", \"advisory\", \"highly\", \"recommended\", \"pleasure\", \"necessary\", \"woman\", \"concern\", \"accommodating\", \"dealing\", \"wife\", \"exactly\", \"everyone\", \"thorough\", \"business\", \"benefit\", \"stuff\", \"representative\", \"think\", \"talk\", \"theresa\", \"providing\", \"recommend\", \"needed\", \"appreciated\", \"lot\", \"return\", \"patty\", \"well\", \"professional\", \"polite\", \"positive\", \"explained\", \"get\", \"knowledgeable\", \"people\", \"deal\", \"experience\", \"informative\", \"understand\", \"helpful\", \"friendly\", \"good\", \"information\", \"insurance\", \"found\", \"company\", \"snowbird\", \"need\", \"question\", \"helped\", \"would\", \"coverage\", \"easy\", \"policy\", \"answered\", \"service\", \"use\", \"time\", \"reasonably\", \"priced\", \"filling\", \"transaction\", \"instruction\", \"customer\", \"fill\", \"fast\", \"great\", \"entire\", \"user\", \"single\", \"start\", \"support\", \"line\", \"service\", \"teresa\", \"comprehensive\", \"convenient\", \"quotation\", \"pricing\", \"age\", \"easily\", \"offer\", \"hassle\", \"follow\", \"able\", \"love\", \"box\", \"guidance\", \"cancellation\", \"excellent\", \"form\", \"efficient\", \"simple\", \"friendly\", \"price\", \"competitive\", \"coverage\", \"answer\", \"good\", \"reasonable\", \"staff\", \"process\", \"rate\", \"application\", \"easy\", \"trip\", \"quick\", \"online\", \"question\", \"insurance\", \"knowledgeable\", \"clear\"], \"Freq\": [629.0, 281.0, 212.0, 235.0, 332.0, 163.0, 102.0, 463.0, 256.0, 149.0, 181.0, 132.0, 75.0, 96.0, 109.0, 85.0, 141.0, 119.0, 63.0, 210.0, 281.0, 110.0, 71.0, 219.0, 79.0, 64.0, 156.0, 54.0, 62.0, 56.0, 60.41858962314079, 20.111272647363865, 33.642320879204924, 13.678001260640329, 52.53881535597318, 10.993253843861838, 56.00494226224216, 6.290528494471697, 9.203365086474019, 39.381674724850285, 6.49959033930291, 9.398400992566843, 123.76695576234715, 113.37028566172349, 22.722859109815076, 17.677854227675166, 14.873146884883658, 472.132427166065, 14.420513168920383, 15.117491171715214, 102.12503590575326, 20.59070165233669, 15.467114776417556, 4.037060796461724, 4.6581470728404515, 7.967251287105775, 5.980333885317471, 31.190032909159786, 3.8268563415774777, 3.825849846242221, 5.162209544834607, 17.72710232231052, 9.46570571713344, 45.9329316677013, 46.04186112073739, 12.296188195028947, 75.55773386764172, 44.76306852806095, 74.97679436822942, 112.14527957690211, 167.59826111604815, 87.59629599368927, 75.53796756149758, 51.153033769213046, 42.43759991222849, 51.023011715758564, 37.95343288190671, 30.136118785717272, 40.68877164306138, 41.340942941492955, 33.23242059083102, 33.429058788515114, 36.59403023325469, 41.36193380911191, 45.15160607569118, 11.571884013266956, 8.528675418812284, 8.479824514397555, 8.434793964431819, 7.493377933130076, 13.988726672586775, 7.468362461532554, 6.505748780810224, 6.488389211743056, 6.466220858032511, 7.358204406436236, 6.403674160177182, 51.08308873083523, 13.627606950818553, 10.861605334764148, 6.303498743589708, 5.330995696379439, 16.768611048168932, 6.175911903989894, 7.004525766118545, 7.881967742213379, 5.188619965899466, 7.741941538160445, 11.002877416670973, 37.21802472024478, 9.203226270809887, 20.13980289629546, 18.951495403614135, 7.40983490148299, 40.844960852875296, 36.212496624908816, 35.36024526922904, 37.749511485807226, 13.477987656108787, 27.687893099570232, 24.673601363868016, 18.404869027491117, 13.079147209723544, 43.12280372241747, 179.12737483751837, 95.24168964062156, 18.482830931516297, 50.44287633207216, 59.753145963343634, 31.337062580894184, 20.966782176808895, 66.14256132159204, 47.80514020452985, 50.98687927434024, 19.148553439019416, 16.56146781723635, 35.17504839615634, 32.190596954418076, 29.281978619992582, 49.377097043503944, 55.430608201074456, 59.788536997664764, 40.336156492251725, 31.063087625734127, 40.17304778427431, 38.937221362282216, 32.890817448295564, 28.115349064332705, 33.74665787757612, 31.8694895189332, 35.82693368749666, 6.888155197645164, 5.903585119962616, 10.112090364867692, 14.099512325740367, 4.921959134237386, 4.9179712072072395, 22.625021085100972, 59.48986077134643, 11.156646316180566, 8.627868203422901, 10.83702227526199, 9.286300588176367, 18.120343823971265, 16.766647615985967, 11.178028844135996, 9.496620671827774, 7.198591066801889, 11.476137842672053, 64.04956862375855, 5.6703608641201235, 8.495638493043662, 93.22071608347883, 12.258285696557826, 7.461164996569181, 7.335717753181118, 161.59164832495688, 17.776168267226534, 5.87606603819492, 60.167329042857865, 67.28660378863066, 21.11548185305409, 176.5776094743085, 16.594580282696636, 128.81292810210687, 41.76518836771282, 34.68505611202685, 43.879936890016275, 37.974388284856815, 23.97790706201777, 31.864606930213863, 72.02306014112227, 39.40870929918556, 26.000578502575905, 52.248394093740224, 39.908902041810336, 50.843038461497706, 28.30061096851411, 34.32047636241128, 24.025745527422977, 29.091123890263177, 22.37392669084626, 26.82798949862953, 28.866112878611794, 26.686627651160467, 27.13307557105826, 13.92553872773151, 8.928447005427111, 6.117576392141698, 6.977395227972827, 9.275477648368485, 7.453954913869714, 14.0980072295446, 4.951702281470943, 8.167151699684382, 10.431900098042059, 7.003544520557576, 8.959453191273756, 9.687633193325476, 8.145328319513025, 8.11036164913732, 40.07604132967505, 9.265844619388195, 4.939048920363817, 5.5517389054176745, 68.39269679107824, 5.369782065223063, 19.436796905001366, 4.749868317903283, 3.990377943257741, 20.648145251926252, 37.032001479985574, 9.057737140649776, 14.027509931947757, 3.8172132441217426, 6.37286713864853, 43.07650710081095, 67.92519137176657, 38.549823358527455, 8.769674982991333, 32.405767913831724, 41.47892638039203, 72.57368171690855, 22.621681948429053, 26.784547573416464, 42.15922523490361, 24.77147467553501, 28.894349164982064, 73.40676576796457, 47.788443264043316, 53.07919296879106, 21.327453480570917, 78.4556466299349, 19.58625623671273, 35.037976594697255, 39.03965016286206, 29.26170715460149, 48.72208660826342, 17.85269596455137, 22.926310170177114, 27.706629129325723, 44.22796699943655, 25.123792918636937, 23.628462015959332, 27.97215185659379, 24.765993930249593, 23.625258633400566, 14.917508817430942, 17.651136277864932, 4.696738799925795, 7.439696951196917, 13.252028580702442, 80.11797099519383, 13.937285608316458, 57.96366577848263, 157.64735907155602, 5.530251477185718, 16.007653020446092, 4.540202633142532, 4.542735529123937, 3.7926471554934094, 39.86860624748528, 185.18477991927853, 4.212629824259867, 3.5668106773455057, 8.275456168234232, 4.087818006322852, 37.918092470977044, 6.116973033570691, 3.928978631376561, 7.787414768318224, 4.833539297128365, 22.648347436953024, 25.922417674072214, 4.516912228073474, 4.03085633164783, 2.9693308690894917, 5.965942743021673, 54.858247891279944, 13.411828605356305, 56.437906872237654, 37.31340703634527, 70.89325968488518, 88.40902845227795, 31.621646440109092, 51.14931893130952, 25.600997002162117, 67.99456806848478, 29.38405062196587, 28.215550921559966, 50.196812591322995, 32.73443508888256, 27.818030636291585, 103.85571147762474, 19.891172453721527, 29.231634367389418, 26.407882471007255, 32.36403364041713, 34.18387253106804, 21.839385734914988, 18.885423151153592], \"Total\": [629.0, 281.0, 212.0, 235.0, 332.0, 163.0, 102.0, 463.0, 256.0, 149.0, 181.0, 132.0, 75.0, 96.0, 109.0, 85.0, 141.0, 119.0, 63.0, 210.0, 281.0, 110.0, 71.0, 219.0, 79.0, 64.0, 156.0, 54.0, 62.0, 56.0, 63.316981488199524, 21.120656021679878, 35.83293011394953, 14.71969397714594, 56.983374666743714, 11.964453196751375, 62.64294533332158, 7.413642165702564, 11.11996430022941, 50.37250914724523, 8.340713904314775, 12.212454912363079, 163.15899251075786, 149.50198033961087, 30.11002583737517, 23.451326669847298, 19.791934206545896, 629.3287141708712, 19.365349772235536, 20.64527791692275, 141.4350849086629, 28.58071423288726, 21.48120503721477, 5.6410241728541015, 6.509324341591846, 11.238879129393812, 8.474155325749116, 45.2047070305254, 5.618811551879847, 5.618953276631786, 7.590234545700801, 26.542592859084408, 14.035992778146438, 76.70927740523513, 79.48688079960941, 18.708084889904665, 145.70572892275177, 82.59919450180077, 156.47627309230097, 256.04554735949364, 463.9196188031827, 210.40094514953918, 174.64255517663617, 108.92494108913299, 88.23072159104315, 115.06521504585797, 81.50045167198385, 58.49155089450912, 99.9166915365908, 103.89413416654766, 77.09750561028322, 79.40047928235794, 130.91123251886347, 223.31542829502212, 48.05347347466953, 12.52470878252476, 9.378570378600392, 9.371699445931794, 9.367705854204884, 8.33139320034826, 15.589859558436926, 8.327152870807618, 7.283156572369353, 7.280706146611907, 7.280007612355655, 8.318897279567352, 7.2767900071538625, 58.10111021208988, 15.618913384871725, 12.461967334126731, 7.2668741756359685, 6.2203391480678745, 19.606190926999435, 7.253129509838671, 8.264628761108817, 9.32337735419449, 6.205261661280558, 9.306586025792978, 13.407258022556507, 45.491045442426426, 11.332206708357111, 24.82103688110853, 23.600041258070164, 9.25455668964365, 55.98247851206469, 49.999955871530425, 49.8689088402797, 54.11595873808265, 17.477760594214345, 39.69018402707779, 36.538208386890275, 26.509719427686004, 17.412822571724867, 77.94812268086179, 463.9196188031827, 210.40094514953918, 27.275118303078653, 99.91508955742776, 126.71752219763631, 57.01451672748965, 34.1436883751192, 181.36201671509656, 115.06521504585797, 130.91123251886347, 30.6130424585801, 25.259659016237766, 94.3779251334081, 85.77466716134494, 73.00763085520818, 219.67151570657816, 281.95639430807927, 332.0163946682889, 156.47627309230097, 93.34723563082741, 235.04556633694463, 256.04554735949364, 147.1587261753117, 88.23072159104315, 223.31542829502212, 33.584981083577276, 39.35242697526314, 7.687400371105779, 6.728210298898308, 11.54827027203803, 16.261647090702173, 5.768632833345978, 5.764958978011586, 26.835738688474404, 71.35539574445187, 13.55173368993901, 10.59869240835296, 13.431880821219846, 11.59461644896231, 23.045824469318557, 21.343836709958698, 14.452495982607049, 12.515398327030823, 9.559820982524549, 15.360110317538455, 85.92980126550421, 7.721695015304062, 11.73173788718223, 132.95735904417373, 17.536399718728614, 10.713098452804472, 10.581566068936331, 235.04556633694463, 26.268049262259467, 8.70960314106849, 92.37800928565183, 110.62612098940178, 32.45768687736695, 332.0163946682889, 25.30529642631091, 281.95639430807927, 76.5476640904398, 61.198280968397754, 86.98401095352375, 73.94862206233415, 42.01976727206956, 68.38754333732814, 219.67151570657816, 94.3779251334081, 52.43543385110574, 181.1549411349879, 119.80218447021218, 181.36201671509656, 77.1264706926036, 115.28622242706426, 58.239724515616345, 109.1385251403459, 52.97072050094257, 99.91508955742776, 145.70572892275177, 174.64255517663617, 223.31542829502212, 14.796612174946953, 9.854637614600303, 6.896344033494248, 7.8760131108354665, 10.883401873080786, 8.829051561354225, 16.717079913943927, 5.896605001256974, 9.804639451182908, 12.74587264945351, 8.796801615516806, 11.699524170839572, 12.670509684361244, 10.967704652155595, 10.947394184796996, 54.8879990593732, 12.81680928178187, 6.904092602874518, 7.827512058006744, 96.49481937863315, 7.7571000000918575, 28.174646497950327, 6.983823517075218, 5.875876085858887, 30.69937041761137, 55.21382029387452, 13.597696300940424, 21.307302497217673, 5.815288913684014, 9.715305996417147, 66.73461208469969, 109.1385251403459, 62.429327491178405, 13.689937463145085, 68.38754333732814, 99.9166915365908, 219.67151570657816, 48.66980833528735, 61.19282667755157, 115.28622242706426, 58.239724515616345, 77.09750561028322, 332.0163946682889, 181.1549411349879, 223.31542829502212, 50.242328584396894, 463.9196188031827, 44.63452366777778, 126.71752219763631, 156.47627309230097, 93.34723563082741, 281.95639430807927, 39.14166821450166, 73.00763085520818, 147.1587261753117, 629.3287141708712, 130.91123251886347, 110.62612098940178, 281.35669142630945, 149.50198033961087, 181.36201671509656, 15.935615470616579, 20.821143008366867, 5.653227470332581, 9.36174832765761, 16.8616326774737, 102.72763612477593, 18.135434815501185, 75.97452619316051, 212.68340133981332, 7.639971743436513, 22.45175075334513, 6.560260524139163, 6.614175721507467, 5.625904282813006, 60.34068812479718, 281.35669142630945, 6.573938624301613, 5.615953555697242, 13.270476938103183, 6.623808292724248, 64.17133066709168, 10.389894976330556, 6.6809291625164935, 13.30667735016709, 8.788795045199432, 41.824183830723285, 48.16329344259159, 8.413813921785248, 7.592433196392108, 5.60575232710622, 11.334972480452478, 110.15194652326039, 26.097042251292947, 119.80218447021218, 79.40047928235794, 181.1549411349879, 256.04554735949364, 79.48688079960941, 147.1587261753117, 63.2201340187547, 223.31542829502212, 81.50045167198385, 77.94812268086179, 174.64255517663617, 103.89413416654766, 82.59919450180077, 629.3287141708712, 62.736846788567405, 163.15899251075786, 141.4350849086629, 281.95639430807927, 463.9196188031827, 219.67151570657816, 86.98401095352375], \"Category\": [\"Default\", \"Default\", \"Default\", \"Default\", \"Default\", \"Default\", \"Default\", \"Default\", \"Default\", \"Default\", \"Default\", \"Default\", \"Default\", \"Default\", \"Default\", \"Default\", \"Default\", \"Default\", \"Default\", \"Default\", \"Default\", \"Default\", \"Default\", \"Default\", \"Default\", \"Default\", \"Default\", \"Default\", \"Default\", \"Default\", \"Topic1\", \"Topic1\", \"Topic1\", \"Topic1\", \"Topic1\", \"Topic1\", \"Topic1\", \"Topic1\", \"Topic1\", \"Topic1\", \"Topic1\", \"Topic1\", \"Topic1\", \"Topic1\", \"Topic1\", \"Topic1\", \"Topic1\", \"Topic1\", \"Topic1\", \"Topic1\", \"Topic1\", \"Topic1\", \"Topic1\", \"Topic1\", \"Topic1\", \"Topic1\", \"Topic1\", \"Topic1\", \"Topic1\", \"Topic1\", \"Topic1\", \"Topic1\", \"Topic1\", \"Topic1\", \"Topic1\", \"Topic1\", \"Topic1\", \"Topic1\", \"Topic1\", \"Topic1\", \"Topic1\", \"Topic1\", \"Topic1\", \"Topic1\", \"Topic1\", \"Topic1\", \"Topic1\", \"Topic1\", \"Topic1\", \"Topic1\", \"Topic1\", \"Topic1\", \"Topic1\", \"Topic1\", \"Topic2\", \"Topic2\", \"Topic2\", \"Topic2\", \"Topic2\", \"Topic2\", \"Topic2\", \"Topic2\", \"Topic2\", \"Topic2\", \"Topic2\", \"Topic2\", \"Topic2\", \"Topic2\", \"Topic2\", \"Topic2\", \"Topic2\", \"Topic2\", \"Topic2\", \"Topic2\", \"Topic2\", \"Topic2\", \"Topic2\", \"Topic2\", \"Topic2\", \"Topic2\", \"Topic2\", \"Topic2\", \"Topic2\", \"Topic2\", \"Topic2\", \"Topic2\", \"Topic2\", \"Topic2\", \"Topic2\", \"Topic2\", \"Topic2\", \"Topic2\", \"Topic2\", \"Topic2\", \"Topic2\", \"Topic2\", \"Topic2\", \"Topic2\", \"Topic2\", \"Topic2\", \"Topic2\", \"Topic2\", \"Topic2\", \"Topic2\", \"Topic2\", \"Topic2\", \"Topic2\", \"Topic2\", \"Topic2\", \"Topic2\", \"Topic2\", \"Topic2\", \"Topic2\", \"Topic2\", \"Topic2\", \"Topic2\", \"Topic2\", \"Topic2\", \"Topic2\", \"Topic3\", \"Topic3\", \"Topic3\", \"Topic3\", \"Topic3\", \"Topic3\", \"Topic3\", \"Topic3\", \"Topic3\", \"Topic3\", \"Topic3\", \"Topic3\", \"Topic3\", \"Topic3\", \"Topic3\", \"Topic3\", \"Topic3\", \"Topic3\", \"Topic3\", \"Topic3\", \"Topic3\", \"Topic3\", \"Topic3\", \"Topic3\", \"Topic3\", \"Topic3\", \"Topic3\", \"Topic3\", \"Topic3\", \"Topic3\", \"Topic3\", \"Topic3\", \"Topic3\", \"Topic3\", \"Topic3\", \"Topic3\", \"Topic3\", \"Topic3\", \"Topic3\", \"Topic3\", \"Topic3\", \"Topic3\", \"Topic3\", \"Topic3\", \"Topic3\", \"Topic3\", \"Topic3\", \"Topic3\", \"Topic3\", \"Topic3\", \"Topic3\", \"Topic3\", \"Topic3\", \"Topic3\", \"Topic3\", \"Topic3\", \"Topic3\", \"Topic4\", \"Topic4\", \"Topic4\", \"Topic4\", \"Topic4\", \"Topic4\", \"Topic4\", \"Topic4\", \"Topic4\", \"Topic4\", \"Topic4\", \"Topic4\", \"Topic4\", \"Topic4\", \"Topic4\", \"Topic4\", \"Topic4\", \"Topic4\", \"Topic4\", \"Topic4\", \"Topic4\", \"Topic4\", \"Topic4\", \"Topic4\", \"Topic4\", \"Topic4\", \"Topic4\", \"Topic4\", \"Topic4\", \"Topic4\", \"Topic4\", \"Topic4\", \"Topic4\", \"Topic4\", \"Topic4\", \"Topic4\", \"Topic4\", \"Topic4\", \"Topic4\", \"Topic4\", \"Topic4\", \"Topic4\", \"Topic4\", \"Topic4\", \"Topic4\", \"Topic4\", \"Topic4\", \"Topic4\", \"Topic4\", \"Topic4\", \"Topic4\", \"Topic4\", \"Topic4\", \"Topic4\", \"Topic4\", \"Topic4\", \"Topic4\", \"Topic4\", \"Topic4\", \"Topic4\", \"Topic4\", \"Topic5\", \"Topic5\", \"Topic5\", \"Topic5\", \"Topic5\", \"Topic5\", \"Topic5\", \"Topic5\", \"Topic5\", \"Topic5\", \"Topic5\", \"Topic5\", \"Topic5\", \"Topic5\", \"Topic5\", \"Topic5\", \"Topic5\", \"Topic5\", \"Topic5\", \"Topic5\", \"Topic5\", \"Topic5\", \"Topic5\", \"Topic5\", \"Topic5\", \"Topic5\", \"Topic5\", \"Topic5\", \"Topic5\", \"Topic5\", \"Topic5\", \"Topic5\", \"Topic5\", \"Topic5\", \"Topic5\", \"Topic5\", \"Topic5\", \"Topic5\", \"Topic5\", \"Topic5\", \"Topic5\", \"Topic5\", \"Topic5\", \"Topic5\", \"Topic5\", \"Topic5\", \"Topic5\", \"Topic5\", \"Topic5\", \"Topic5\", \"Topic5\", \"Topic5\", \"Topic5\", \"Topic5\"], \"logprob\": [30.0, 29.0, 28.0, 27.0, 26.0, 25.0, 24.0, 23.0, 22.0, 21.0, 20.0, 19.0, 18.0, 17.0, 16.0, 15.0, 14.0, 13.0, 12.0, 11.0, 10.0, 9.0, 8.0, 7.0, 6.0, 5.0, 4.0, 3.0, 2.0, 1.0, -4.2041, -5.3041, -4.7896, -5.6896, -4.3439, -5.9081, -4.28, -6.4664, -6.0858, -4.6321, -6.4337, -6.0649, -3.487, -3.5748, -5.182, -5.4331, -5.6059, -2.1482, -5.6368, -5.5896, -3.6792, -5.2806, -5.5667, -6.9099, -6.7668, -6.2301, -6.5169, -4.8653, -6.9634, -6.9636, -6.6641, -5.4303, -6.0577, -4.4782, -4.4759, -5.7961, -3.9805, -4.504, -3.9882, -3.5856, -3.1838, -3.8327, -3.9808, -4.3706, -4.5574, -4.3731, -4.6691, -4.8997, -4.5995, -4.5836, -4.8019, -4.796, -4.7055, -4.5831, -4.3857, -5.7471, -6.0523, -6.058, -6.0633, -6.1817, -5.5575, -6.185, -6.323, -6.3257, -6.3291, -6.1999, -6.3388, -4.2623, -5.5836, -5.8105, -6.3546, -6.5222, -5.3762, -6.375, -6.2491, -6.1311, -6.5492, -6.1491, -5.7975, -4.5789, -5.9761, -5.193, -5.2538, -6.1929, -4.4859, -4.6063, -4.6301, -4.5647, -5.5946, -4.8747, -4.99, -5.2831, -5.6247, -4.4317, -3.0076, -3.6393, -5.2789, -4.2749, -4.1055, -4.7509, -5.1528, -4.0039, -4.3286, -4.2641, -5.2435, -5.3886, -4.6354, -4.724, -4.8187, -4.2962, -4.1806, -4.1049, -4.4985, -4.7597, -4.5025, -4.5338, -4.7025, -4.8594, -4.6768, -4.6255, -4.5084, -6.1573, -6.3115, -5.7734, -5.441, -6.4934, -6.4942, -4.968, -4.0013, -5.6751, -5.9321, -5.7041, -5.8586, -5.1901, -5.2677, -5.6732, -5.8362, -6.1132, -5.6468, -3.9274, -6.3519, -5.9476, -3.5521, -5.5809, -6.0774, -6.0943, -3.002, -5.2092, -6.3162, -3.99, -3.8781, -5.0371, -2.9133, -5.278, -3.2287, -4.355, -4.5408, -4.3056, -4.4502, -4.91, -4.6256, -3.8101, -4.4131, -4.829, -4.1311, -4.4005, -4.1584, -4.7442, -4.5514, -4.908, -4.7167, -4.9792, -4.7977, -4.7244, -4.8029, -4.7864, -5.3354, -5.7799, -6.158, -6.0265, -5.7418, -5.9604, -5.3231, -6.3694, -5.869, -5.6243, -6.0227, -5.7764, -5.6983, -5.8717, -5.876, -4.2784, -5.7428, -6.372, -6.255, -3.7439, -6.2884, -5.002, -6.411, -6.5853, -4.9415, -4.3574, -5.7655, -5.3281, -6.6296, -6.1171, -4.2062, -3.7508, -4.3172, -5.7979, -4.4908, -4.244, -3.6846, -4.8503, -4.6813, -4.2277, -4.7595, -4.6055, -3.6731, -4.1024, -3.9974, -4.9092, -3.6066, -4.9943, -4.4127, -4.3046, -4.5929, -4.083, -5.087, -4.8369, -4.6475, -4.1798, -4.7453, -4.8067, -4.6379, -4.7597, -4.8068, -5.1566, -4.9883, -6.3123, -5.8523, -5.275, -3.4756, -5.2246, -3.7993, -2.7988, -6.1489, -5.0861, -6.3461, -6.3456, -6.5261, -4.1735, -2.6378, -6.421, -6.5874, -5.7458, -6.4511, -4.2237, -6.0481, -6.4907, -5.8066, -6.2835, -4.739, -4.604, -6.3513, -6.4651, -6.7708, -6.0731, -3.8544, -5.263, -3.826, -4.2398, -3.5979, -3.3771, -4.4053, -3.9244, -4.6165, -3.6397, -4.4787, -4.5192, -3.9432, -4.3707, -4.5334, -3.2161, -4.8688, -4.4839, -4.5855, -4.3821, -4.3274, -4.7754, -4.9207], \"loglift\": [30.0, 29.0, 28.0, 27.0, 26.0, 25.0, 24.0, 23.0, 22.0, 21.0, 20.0, 19.0, 18.0, 17.0, 16.0, 15.0, 14.0, 13.0, 12.0, 11.0, 10.0, 9.0, 8.0, 7.0, 6.0, 5.0, 4.0, 3.0, 2.0, 1.0, 1.3529, 1.3508, 1.3367, 1.3264, 1.3186, 1.3151, 1.2878, 1.2355, 1.2106, 1.1537, 1.1504, 1.1379, 1.1235, 1.1232, 1.1183, 1.1172, 1.1141, 1.1124, 1.105, 1.0882, 1.0742, 1.0719, 1.0713, 1.0653, 1.0652, 1.0558, 1.0513, 1.0287, 1.0157, 1.0154, 1.0143, 0.9961, 1.0059, 0.887, 0.8538, 0.9801, 0.7431, 0.7872, 0.6641, 0.5742, 0.3817, 0.5235, 0.5617, 0.644, 0.6679, 0.5866, 0.6356, 0.7366, 0.5014, 0.4783, 0.5583, 0.5347, 0.1252, -0.2864, 1.4472, 1.4304, 1.4145, 1.4095, 1.4046, 1.4035, 1.4011, 1.4007, 1.3966, 1.3943, 1.391, 1.3868, 1.3817, 1.3808, 1.3731, 1.3721, 1.3673, 1.3552, 1.3532, 1.3487, 1.3441, 1.3416, 1.3306, 1.3254, 1.3119, 1.3088, 1.3014, 1.3005, 1.2902, 1.2872, 1.1943, 1.1869, 1.1657, 1.1494, 1.2496, 1.1494, 1.1169, 1.1446, 1.2233, 0.9175, 0.5579, 0.7169, 1.1204, 0.826, 0.7578, 0.911, 1.0219, 0.5008, 0.6311, 0.5666, 1.0403, 1.0874, 0.5225, 0.5295, 0.5959, 0.0169, -0.1171, -0.2049, 0.1539, 0.4092, -0.2571, -0.3739, 0.0112, 0.3659, -0.3802, 1.5657, 1.5243, 1.5083, 1.4874, 1.4853, 1.4754, 1.4594, 1.4592, 1.4474, 1.4362, 1.4236, 1.4124, 1.4035, 1.3961, 1.3777, 1.3767, 1.3612, 1.3421, 1.3344, 1.3266, 1.3242, 1.3093, 1.2954, 1.2631, 1.26, 1.2564, 1.2518, 1.2434, 1.2276, 1.2246, 1.1894, 1.1209, 1.1882, 0.9867, 1.1962, 0.8347, 1.0123, 1.0503, 0.9338, 0.9517, 1.0571, 0.8544, 0.503, 0.7448, 0.9167, 0.3748, 0.5189, 0.3464, 0.6156, 0.4064, 0.7327, 0.2959, 0.7563, 0.3032, -0.0008, -0.2605, -0.4897, 1.6754, 1.6374, 1.6162, 1.6149, 1.5762, 1.5668, 1.5657, 1.5614, 1.5533, 1.5357, 1.5081, 1.4692, 1.4676, 1.4386, 1.4361, 1.4215, 1.4116, 1.4011, 1.3925, 1.3918, 1.3682, 1.3648, 1.3506, 1.3491, 1.3394, 1.3366, 1.3298, 1.318, 1.3151, 1.3144, 1.2983, 1.2618, 1.254, 1.2907, 0.9892, 0.8569, 0.6285, 0.9699, 0.9099, 0.7301, 0.8812, 0.7546, 0.2269, 0.4035, 0.2993, 0.8792, -0.0411, 0.9124, 0.4505, 0.3477, 0.576, -0.0196, 0.951, 0.5778, 0.0662, -0.9192, 0.0854, 0.1924, -0.5724, -0.0618, -0.3021, 1.7801, 1.6809, 1.6607, 1.6163, 1.6052, 1.5975, 1.5828, 1.5755, 1.5467, 1.5229, 1.5078, 1.478, 1.4704, 1.4518, 1.4317, 1.4278, 1.4011, 1.3922, 1.3739, 1.3634, 1.32, 1.3163, 1.3152, 1.3103, 1.2482, 1.2327, 1.2266, 1.2241, 1.2129, 1.2106, 1.2043, 1.149, 1.1804, 1.0934, 1.0909, 0.9079, 0.7827, 0.9243, 0.7893, 0.9421, 0.6569, 0.8259, 0.8299, 0.5993, 0.6912, 0.7578, 0.0444, 0.6974, 0.1266, 0.1679, -0.3186, -0.7619, -0.4623, 0.3188]}, \"token.table\": {\"Topic\": [3, 2, 3, 4, 5, 1, 1, 4, 1, 2, 3, 4, 5, 4, 1, 4, 1, 2, 5, 1, 2, 3, 4, 5, 1, 2, 4, 1, 2, 3, 5, 2, 3, 4, 5, 1, 2, 3, 4, 5, 1, 2, 3, 5, 1, 5, 4, 5, 2, 2, 3, 4, 5, 2, 3, 4, 1, 2, 4, 1, 3, 1, 4, 1, 2, 3, 5, 1, 2, 4, 1, 2, 3, 4, 5, 1, 2, 3, 4, 5, 2, 1, 3, 5, 2, 1, 2, 3, 1, 2, 3, 4, 1, 2, 3, 4, 5, 2, 1, 2, 3, 4, 5, 2, 1, 2, 5, 1, 3, 4, 5, 1, 5, 3, 4, 5, 1, 5, 4, 5, 2, 3, 5, 1, 2, 3, 5, 1, 4, 5, 1, 2, 3, 1, 2, 3, 4, 5, 1, 3, 4, 5, 2, 1, 2, 3, 4, 5, 2, 3, 2, 3, 4, 1, 2, 3, 4, 5, 2, 3, 4, 5, 1, 2, 3, 4, 1, 4, 5, 2, 1, 3, 3, 4, 2, 3, 5, 4, 5, 1, 2, 3, 4, 5, 1, 2, 3, 4, 5, 2, 3, 2, 5, 2, 4, 1, 2, 3, 4, 2, 4, 1, 2, 3, 4, 5, 2, 3, 5, 1, 2, 3, 4, 5, 1, 3, 4, 2, 3, 4, 3, 4, 5, 1, 5, 1, 2, 3, 5, 1, 2, 3, 5, 2, 5, 5, 1, 2, 3, 5, 1, 3, 5, 1, 2, 3, 4, 1, 2, 4, 5, 1, 2, 3, 4, 5, 1, 2, 2, 1, 2, 4, 5, 1, 2, 3, 4, 5, 1, 2, 3, 4, 5, 1, 5, 2, 5, 1, 2, 3, 4, 2, 3, 4, 1, 2, 3, 4, 5, 2, 4, 2, 1, 2, 1, 2, 4, 1, 2, 2, 4, 5, 1, 3, 1, 2, 3, 4, 1, 2, 3, 4, 5, 1, 2, 1, 3, 5, 1, 2, 3, 4, 5, 1, 2, 3, 1, 2, 5, 4, 2, 3, 4, 5, 1, 3, 4, 5, 1, 2, 3, 4, 5, 2, 3, 4, 1, 2, 3, 4, 5, 1, 2, 3, 4, 5, 1, 2, 4, 1, 3, 5, 1, 2, 3, 4, 5, 1, 2, 2, 1, 2, 3, 4, 5, 1, 3, 4, 4, 1, 2, 4, 5, 1, 2, 4, 5, 1, 2, 1, 2, 4, 5, 1, 2, 4, 5, 1, 2, 3, 5, 1, 2, 3, 4, 5, 2, 3, 4, 5, 4, 5, 1, 2, 4, 5, 2, 1, 3, 4, 5, 4, 1, 2, 3, 4, 5, 1, 2, 3, 4, 1, 2, 3, 4, 5, 3, 4, 2, 3, 4, 1, 2, 3, 4, 5, 1, 3, 4, 3, 4, 2, 3, 5, 1, 2, 3, 4, 5, 2, 5, 1, 2, 3, 4, 5, 2, 1, 2, 3, 4, 5, 1, 2, 3, 4, 5, 2, 3, 4, 1, 2, 4, 5, 3, 4, 1, 2, 3, 4, 5, 1, 2, 3, 4, 5, 1, 2, 5, 1, 2, 3, 4, 5, 1, 2, 3, 4, 5, 3, 5, 1, 2, 3, 4, 5, 1, 2, 3, 4, 5, 3, 2, 1, 2, 3, 4, 5, 5, 1, 2, 5, 1, 2, 3, 4, 1, 4, 4, 1, 2, 3, 4, 5, 1, 2, 3, 4, 5, 3, 1, 4, 2, 4, 1, 2, 4, 3, 1, 2, 3, 4, 5, 1, 2, 3, 4, 5, 2, 3, 1, 5, 1, 3, 4, 1, 4, 1, 2, 3, 4, 5, 2, 3, 1, 2, 3, 4, 5, 2, 3, 5, 2, 3, 4, 2, 5, 1, 2, 3, 4, 5, 3, 5, 1, 3, 1, 2, 3, 3, 4, 1, 5, 1, 4, 5, 2, 3, 4, 3, 4, 1, 3, 5, 2, 4, 1, 2, 3, 4, 1, 4, 1, 3, 4, 1, 2, 3, 4, 5, 1, 2, 3, 4, 1, 2, 3, 4, 1, 5, 1, 2, 3, 4, 5, 1, 2, 3, 4, 5, 1, 2, 3, 4, 5, 1, 2, 3, 4, 3, 4, 5, 1, 2, 3, 4, 5, 1, 2, 3, 4, 1, 3, 5, 1, 3, 4, 5, 1, 4, 1, 3, 1, 2, 1, 2, 3, 4, 5, 1, 3, 4, 2, 3, 4, 5, 1, 4, 5, 1, 4, 5, 1, 2, 3, 4, 5, 1, 2, 3, 4, 5, 2, 1, 3, 4], \"Freq\": [0.9105809066886286, 0.12457619841034587, 0.062288099205172934, 0.24915239682069173, 0.5398301931114988, 0.9193901149604358, 0.11367768010546987, 0.7957437607382891, 0.4682123257543636, 0.15607077525145455, 0.15607077525145455, 0.1836126767664171, 0.027541901514962566, 0.8887745489364045, 0.6982848482668216, 0.23276161608894053, 0.2887420909291542, 0.0962473636430514, 0.5774841818583084, 0.008508988410923447, 0.17017976821846892, 0.6892280612847992, 0.08934437831469619, 0.04254494205461723, 0.07458646639884083, 0.8204511303872492, 0.07458646639884083, 0.19071073252479864, 0.09535536626239932, 0.49584790456447647, 0.22885287902975837, 0.26890167608560955, 0.2847194217377042, 0.047453236956284034, 0.4112613869544616, 0.009039456423639784, 0.16271021562551613, 0.6056435803838656, 0.21694695416735485, 0.009039456423639784, 0.5447995016345946, 0.01210665559187988, 0.10895990032691891, 0.3389863565726366, 0.7347612039672443, 0.2449204013224148, 0.6618768209566172, 0.29416747598071874, 0.9611217238630315, 0.6206504964577526, 0.13066326241215845, 0.1959948936182377, 0.03266581560303961, 0.14484162619482394, 0.14484162619482394, 0.7242081309741197, 0.4760246685352246, 0.31734977902348305, 0.19267665154997185, 0.7681288775322044, 0.15362577550644088, 0.7118763590071623, 0.17796908975179057, 0.7369525672425613, 0.16376723716501362, 0.39513024644399736, 0.5268403285919965, 0.07802253884056969, 0.15604507768113937, 0.7022028495651271, 0.021191396157235882, 0.3708494327516279, 0.4132322250660997, 0.12714837694341527, 0.06357418847170763, 0.03695767471624879, 0.7021958196087271, 0.20326721093936836, 0.03695767471624879, 0.03695767471624879, 0.8241749623745968, 0.08822253443707358, 0.2646676033112207, 0.5293352066224414, 0.827229128042063, 0.057215568013388944, 0.7438023841740562, 0.17164670404016683, 0.8939554119306711, 0.015963489498761984, 0.07981744749380992, 0.015963489498761984, 0.14945275410380884, 0.0919709256023439, 0.5058400908128915, 0.03448909710087896, 0.21843094830556678, 0.8057677939995471, 0.2209639165476224, 0.4734941068877623, 0.007891568448129372, 0.276204895684528, 0.023674705344388116, 0.8256644954878283, 0.7675471948093932, 0.17056604329097624, 0.04264151082274406, 0.5787118520346572, 0.012580692435536028, 0.012580692435536028, 0.4025821579371529, 0.6857692934292577, 0.2875806714380758, 0.6615277884574647, 0.09450396977963782, 0.09450396977963782, 0.17806415065265727, 0.7122566026106291, 0.784567700857168, 0.07845677008571679, 0.0744497374053668, 0.8189471114590348, 0.1488994748107336, 0.05261817817976075, 0.5437211745241944, 0.19293331999245608, 0.19293331999245608, 0.07535524191513611, 0.2260657257454083, 0.6028419353210889, 0.08624692368236964, 0.08624692368236964, 0.7762223131413267, 0.512894589752043, 0.30773675385122584, 0.0512894589752043, 0.017096486325068102, 0.11967540427547671, 0.018878353749826868, 0.41532378249619106, 0.3398103674968836, 0.22654024499792239, 0.9581061091610477, 0.1427030563922012, 0.2242476600448876, 0.09513537092813414, 0.19027074185626827, 0.3465645655239172, 0.8826856711361154, 0.08024415192146503, 0.11404849524865869, 0.6842909714919522, 0.11404849524865869, 0.04867239419319312, 0.0389379153545545, 0.08761030954774762, 0.0389379153545545, 0.77875830709109, 0.8133468826700694, 0.13189408908163286, 0.021982348180272147, 0.021982348180272147, 0.17975963192488575, 0.09805070832266495, 0.29415212496799487, 0.44122818745199227, 0.17094712321590746, 0.7692620544715836, 0.08547356160795373, 0.8539977796601116, 0.7193628829417241, 0.11989381382362067, 0.8491613543673547, 0.09435126159637275, 0.7941965966225105, 0.08824406629139006, 0.08824406629139006, 0.2993595578323216, 0.5987191156646432, 0.7500055048685506, 0.0031779894274091124, 0.011122962995931894, 0.06991576740300047, 0.16525545022527385, 0.1001651184664642, 0.09181802526092551, 0.3338837282215473, 0.008347093205538683, 0.46743721951016626, 0.2557165893791163, 0.6819109050109768, 0.1308905364550724, 0.7853432187304344, 0.18269187774177945, 0.7307675109671178, 0.14875192658394196, 0.18932063383410794, 0.5138702918354359, 0.14875192658394196, 0.18235356106228842, 0.7294142442491537, 0.11801879504012974, 0.13617553273861124, 0.08170531964316674, 0.16341063928633348, 0.49931028670824124, 0.7054641011716547, 0.1259757323520812, 0.15117087882249744, 0.13878501405597177, 0.09541469716348058, 0.29491815486893996, 0.36431066189692585, 0.10408876054197883, 0.08678361681799003, 0.7810525513619102, 0.13017542522698505, 0.04386763807558068, 0.46792147280619395, 0.46792147280619395, 0.7161406899167905, 0.13020739816668916, 0.13020739816668916, 0.7229407247821602, 0.20655449279490293, 0.09213614550491483, 0.013162306500702119, 0.13162306500702117, 0.7634137770407229, 0.11876644882939624, 0.6730098766999121, 0.15835526510586165, 0.03958881627646541, 0.16542200562160014, 0.7719693595674674, 0.8844505242782754, 0.4064634009071113, 0.02390961181806537, 0.04781922363613074, 0.5499210718155035, 0.34486666777550645, 0.11495555592516882, 0.4981407423423982, 0.050822786641779326, 0.025411393320889663, 0.9148101595520278, 0.025411393320889663, 0.26885018622172396, 0.15682927529600563, 0.44808364370287324, 0.11202091092571831, 0.022080545940060193, 0.03312081891009029, 0.2870470972207825, 0.26496655128072233, 0.3919296904360684, 0.12099757035739327, 0.8469829925017528, 0.8401956109462454, 0.4103418494895346, 0.12010005350913208, 0.4103418494895346, 0.06005002675456604, 0.18359680884132593, 0.15225101220988002, 0.12090521557843414, 0.23733246020951887, 0.30450202441976004, 0.07052736558427454, 0.08933466307341442, 0.08933466307341442, 0.00470182437228497, 0.7428882508210252, 0.3567763759966956, 0.5351645639950433, 0.34134372056367884, 0.5689062009394648, 0.0688455002907615, 0.8777801287072092, 0.03442275014538075, 0.017211375072690376, 0.0766446637777315, 0.45986798266638906, 0.45986798266638906, 0.012047597842258126, 0.1807139676338719, 0.5331062045199221, 0.2198686606212108, 0.05421419029016157, 0.09188303543889334, 0.82694731895004, 0.8414576793961873, 0.6587411719486402, 0.2634964687794561, 0.6781552991285612, 0.1883764719801559, 0.11302588318809353, 0.7578844919077675, 0.20210253117540466, 0.7465762627771527, 0.057428943290550205, 0.17228682987165062, 0.061494385803745805, 0.8609214012524413, 0.23884243302621694, 0.07961414434207231, 0.23884243302621694, 0.41797425779587966, 0.03434082177816143, 0.03434082177816143, 0.4120898613379372, 0.4292602722270179, 0.1030224653344843, 0.7090910936437598, 0.17727277341093994, 0.1186124759242265, 0.05930623796211325, 0.7709810935074722, 0.36213169952459756, 0.3858427036601367, 0.010777729152517785, 0.16813257477927745, 0.07328855823712094, 0.7080351692125255, 0.11800586153542092, 0.11800586153542092, 0.02081015018669006, 0.9364567584010527, 0.02081015018669006, 0.9461625292649256, 0.07990157195717812, 0.7191141476146031, 0.07990157195717812, 0.07990157195717812, 0.10460446924979142, 0.7322312847485399, 0.10460446924979142, 0.10460446924979142, 0.018209006238855838, 0.22306032642598403, 0.3277621122994051, 0.33231436385911906, 0.10014953431370711, 0.11855225678687495, 0.6717961217922914, 0.19758709464479157, 0.10000008825701705, 0.7200006354505227, 0.14000012355982386, 0.02000001765140341, 0.02000001765140341, 0.11600795777341043, 0.03314513079240298, 0.09943539237720894, 0.08286282698100746, 0.6629026158480597, 0.2815935992265321, 0.04693226653775535, 0.6570517315285749, 0.3565564948176865, 0.11885216493922882, 0.594260824696144, 0.15558860521217646, 0.23338290781826468, 0.3630400788284117, 0.18152003941420586, 0.06482858550507352, 0.10200859552203104, 0.8670730619372637, 0.8536338629033562, 0.29146134665814777, 0.37307052372242916, 0.08160917706428138, 0.05829226933162955, 0.2098521695938664, 0.9476130824584916, 0.03158710274861638, 0.01579355137430819, 0.8479455549310415, 0.25710456059905146, 0.33209339077377475, 0.3106680107238538, 0.08570152019968381, 0.1267798526300595, 0.16300266766721935, 0.6701220781874574, 0.03622281503715986, 0.9469402834585465, 0.8240958883901822, 0.6412086513761031, 0.0712454057084559, 0.0712454057084559, 0.1424908114169118, 0.15030048053091827, 0.15030048053091827, 0.07515024026545913, 0.6012019221236731, 0.14290185451999832, 0.7323720044149914, 0.08931365907499896, 0.03572546362999958, 0.721178907382637, 0.014140762889855628, 0.049492670114494694, 0.028281525779711256, 0.18382991756812314, 0.05605742856959789, 0.8268470714015689, 0.05605742856959789, 0.04204307142719842, 0.6175821947566763, 0.30879109737833815, 0.020546618821898344, 0.30819928232847515, 0.4725722329036619, 0.20546618821898344, 0.8245393908717111, 0.01163740617658616, 0.7447939953015142, 0.23274812353172322, 0.01163740617658616, 0.9132755918559501, 0.09025450028691621, 0.007521208357243018, 0.6994723772236007, 0.11281812535864527, 0.09025450028691621, 0.160420594435351, 0.7018401006546606, 0.020052574304418876, 0.0802102972176755, 0.08660069709082334, 0.05412543568176459, 0.6495052281811751, 0.129901045636235, 0.07577560995447043, 0.11963811923467416, 0.8374668346427191, 0.18668735369238024, 0.6534057379233309, 0.09334367684619012, 0.28263426512823137, 0.3895769600416162, 0.09166516706861558, 0.1909690980596158, 0.04583258353430779, 0.032036225286626877, 0.33638036550958217, 0.624706393089224, 0.29218541069076964, 0.6574171740542317, 0.6842152668046492, 0.13684305336092983, 0.19158027470530176, 0.43742217412103446, 0.1523166499171459, 0.019527775630403324, 0.04686666151296798, 0.3436888510950985, 0.09605620590552164, 0.8645058531496947, 0.3739987896543288, 0.0155832829022637, 0.0155832829022637, 0.0155832829022637, 0.5921647502860206, 0.8038146925723609, 0.43517457656945313, 0.05153383143585629, 0.1546014943075689, 0.08016373778910979, 0.286299063532535, 0.03665066936589283, 0.009162667341473207, 0.265717352902723, 0.6230613792201781, 0.06413867139031244, 0.07379129658830394, 0.8117042624713433, 0.07379129658830394, 0.7265583955982803, 0.14531167911965606, 0.048437226373218685, 0.048437226373218685, 0.17018738744451045, 0.6807495497780418, 0.5996667098947365, 0.20857972518077791, 0.06518116411899309, 0.01303623282379862, 0.11732609541418758, 0.17572793935093, 0.615047787728255, 0.05857597978364333, 0.05857597978364333, 0.11715195956728666, 0.08474561455760544, 0.8050833382972518, 0.08474561455760544, 0.060293011058387184, 0.1950656240124291, 0.4575175545018792, 0.17378573775652775, 0.11349272669814058, 0.7599948865326812, 0.006128991020424849, 0.04903192816339879, 0.006128991020424849, 0.17774073959232062, 0.3019411057226473, 0.6038822114452946, 0.5215992573654575, 0.10981036997167529, 0.19903129557366145, 0.10981036997167529, 0.06863148123229705, 0.3946324816979069, 0.07700145984349402, 0.02887554744131026, 0.1828784671282983, 0.31763102185441283, 0.8673088601446681, 0.8406234530099479, 0.46625508473179017, 0.08588909455585608, 0.0736192239050195, 0.024539741301673166, 0.3558262488742609, 0.9412877731430114, 0.7118147555370581, 0.17795368888426452, 0.08897684444213226, 0.06514791582998249, 0.16286978957495624, 0.06514791582998249, 0.6840531162148161, 0.1132624487523796, 0.7928371412666572, 0.8700262009637464, 0.08170164130234239, 0.16340328260468479, 0.5719114891163967, 0.11438229782327934, 0.06536131304187391, 0.01036325065365561, 0.07254275457558927, 0.16581201045848976, 0.7047010444485814, 0.04145300261462244, 0.8667564992344732, 0.1719605018500268, 0.6878420074001071, 0.8963491668735558, 0.06402494049096827, 0.2199807140459866, 0.6599421421379598, 0.07332690468199553, 0.8917676073505689, 0.07108414553288928, 0.09596359646940052, 0.07463835280953374, 0.09951780374604498, 0.6575283461792257, 0.4156146196882252, 0.06297191207397353, 0.03778314724438411, 0.012594382414794703, 0.46599214934740407, 0.8596063022281418, 0.10745078777851773, 0.15243297066029554, 0.7621648533014777, 0.9488478863402806, 0.027907290774714134, 0.027907290774714134, 0.7118943148505751, 0.17797357871264377, 0.47930589422819136, 0.2556298102550354, 0.0063907452563758856, 0.24923906499865953, 0.0063907452563758856, 0.8580581581202315, 0.10725726976502893, 0.038069062152884976, 0.1522762486115399, 0.6852431187519296, 0.07613812430576995, 0.038069062152884976, 0.11481579399234493, 0.6888947639540696, 0.11481579399234493, 0.1698288269729657, 0.5486777486818892, 0.2743388743409446, 0.7563841505053807, 0.10805487864362581, 0.025658090678956788, 0.5516489495975709, 0.012829045339478394, 0.051316181357913576, 0.35921326950539506, 0.15119041920042692, 0.7559520960021345, 0.029775214031279897, 0.9528068490009567, 0.7638651698349063, 0.19926917473954078, 0.0332115291232568, 0.12775451415333208, 0.7665270849199924, 0.1777492025690829, 0.7109968102763315, 0.03549290316997407, 0.6743651602295073, 0.28394322535979255, 0.09370386529741541, 0.7964828550280311, 0.09370386529741541, 0.8659305475568168, 0.08659305475568167, 0.15211581019380688, 0.15211581019380688, 0.6084632407752275, 0.28637607968043094, 0.7159401992010773, 0.030809342753790298, 0.2772840847841127, 0.6469961978295963, 0.030809342753790298, 0.2578283121239015, 0.6445707803097538, 0.8093188025391298, 0.25506486372104736, 0.7287567534887067, 0.16541501105563525, 0.3639130243223975, 0.2812055187945799, 0.1323320088445082, 0.060652170720399586, 0.11899161572280978, 0.26178155459018154, 0.5711597554694869, 0.04759664628912391, 0.0754440274426766, 0.6789962469840894, 0.1508880548853532, 0.0754440274426766, 0.10681765467307842, 0.7477235827115489, 0.4182490717304306, 0.4515188842544421, 0.009505660721146149, 0.05228113396630382, 0.07129245540859612, 0.1593959612554565, 0.36661071088754993, 0.01593959612554565, 0.14345636512991083, 0.318791922510913, 0.020016996520335086, 0.5004249130083771, 0.27022945302452367, 0.20016996520335087, 0.010008498260167543, 0.4280294120903242, 0.025941176490322678, 0.16861764718709743, 0.3761470591096789, 0.7611142056872406, 0.13838440103404376, 0.06919220051702188, 0.7558428305986821, 0.06019987146361185, 0.006688874607067984, 0.16722186517669957, 0.013377749214135967, 0.7742318312156747, 0.0794083929451974, 0.059556294708898054, 0.0794083929451974, 0.17815982566099137, 0.08907991283049568, 0.7126393026439655, 0.03726374040262535, 0.8570660292603832, 0.03726374040262535, 0.0745274808052507, 0.8093551163481996, 0.08992834626091106, 0.9300958447961407, 0.05264693461110231, 0.06414425968698478, 0.8980196356177869, 0.01498472784603585, 0.0599389113841434, 0.2697251012286453, 0.6443432973795415, 0.01498472784603585, 0.15784684671908095, 0.07892342335954047, 0.7892342335954047, 0.805768110969697, 0.08057681109696971, 0.040288405548484854, 0.040288405548484854, 0.10199253169675222, 0.8159402535740178, 0.10199253169675222, 0.6414339078862898, 0.21381130262876327, 0.05345282565719082, 0.06848599168922782, 0.39721875179752136, 0.1917607767298379, 0.315035561770448, 0.041091595013536694, 0.4432269124919683, 0.4171547411689113, 0.04345361887176159, 0.06083506642046623, 0.03476289509740928, 0.9596345324161348, 0.951106729646462, 0.7770314662918261, 0.129505244381971], \"Term\": [\"ability\", \"able\", \"able\", \"able\", \"able\", \"access\", \"accommodating\", \"accommodating\", \"advisor\", \"advisor\", \"advisor\", \"advisor\", \"advisor\", \"advisory\", \"affordable\", \"affordable\", \"age\", \"age\", \"age\", \"agent\", \"agent\", \"agent\", \"agent\", \"agent\", \"almost\", \"almost\", \"almost\", \"also\", \"also\", \"also\", \"also\", \"answer\", \"answer\", \"answer\", \"answer\", \"answered\", \"answered\", \"answered\", \"answered\", \"answered\", \"application\", \"application\", \"application\", \"application\", \"apply\", \"apply\", \"appreciated\", \"appreciated\", \"ashley\", \"back\", \"back\", \"back\", \"back\", \"benefit\", \"benefit\", \"benefit\", \"best\", \"best\", \"best\", \"big\", \"big\", \"bird\", \"bird\", \"book\", \"book\", \"box\", \"box\", \"business\", \"business\", \"business\", \"call\", \"call\", \"call\", \"call\", \"call\", \"called\", \"called\", \"called\", \"called\", \"called\", \"canada\", \"cancellation\", \"cancellation\", \"cancellation\", \"cannot\", \"card\", \"card\", \"card\", \"claim\", \"claim\", \"claim\", \"claim\", \"clear\", \"clear\", \"clear\", \"clear\", \"clear\", \"collette\", \"company\", \"company\", \"company\", \"company\", \"company\", \"comparable\", \"compared\", \"compared\", \"compared\", \"competitive\", \"competitive\", \"competitive\", \"competitive\", \"complete\", \"complete\", \"completed\", \"completed\", \"completed\", \"comprehensive\", \"comprehensive\", \"concern\", \"concern\", \"concise\", \"concise\", \"concise\", \"condition\", \"condition\", \"condition\", \"condition\", \"convenient\", \"convenient\", \"convenient\", \"conversation\", \"conversation\", \"conversation\", \"cost\", \"cost\", \"cost\", \"cost\", \"cost\", \"courteous\", \"courteous\", \"courteous\", \"courteous\", \"cover\", \"coverage\", \"coverage\", \"coverage\", \"coverage\", \"coverage\", \"credit\", \"credit\", \"crystal\", \"crystal\", \"crystal\", \"customer\", \"customer\", \"customer\", \"customer\", \"customer\", \"day\", \"day\", \"day\", \"day\", \"deal\", \"deal\", \"deal\", \"deal\", \"dealing\", \"dealing\", \"dealing\", \"detail\", \"discount\", \"discount\", \"document\", \"document\", \"due\", \"due\", \"due\", \"easily\", \"easily\", \"easy\", \"easy\", \"easy\", \"easy\", \"easy\", \"efficient\", \"efficient\", \"efficient\", \"efficient\", \"efficient\", \"english\", \"english\", \"entire\", \"entire\", \"everyone\", \"everyone\", \"everything\", \"everything\", \"everything\", \"everything\", \"exactly\", \"exactly\", \"excellent\", \"excellent\", \"excellent\", \"excellent\", \"excellent\", \"existing\", \"existing\", \"existing\", \"experience\", \"experience\", \"experience\", \"experience\", \"experience\", \"explain\", \"explain\", \"explain\", \"explained\", \"explained\", \"explained\", \"explaining\", \"explaining\", \"explaining\", \"fair\", \"fair\", \"fast\", \"fast\", \"fast\", \"fast\", \"feel\", \"feel\", \"feel\", \"feel\", \"fill\", \"fill\", \"filling\", \"follow\", \"follow\", \"follow\", \"follow\", \"form\", \"form\", \"form\", \"forward\", \"forward\", \"forward\", \"forward\", \"found\", \"found\", \"found\", \"found\", \"friendly\", \"friendly\", \"friendly\", \"friendly\", \"friendly\", \"full\", \"full\", \"gentleman\", \"get\", \"get\", \"get\", \"get\", \"good\", \"good\", \"good\", \"good\", \"good\", \"great\", \"great\", \"great\", \"great\", \"great\", \"guidance\", \"guidance\", \"hassle\", \"hassle\", \"health\", \"health\", \"health\", \"health\", \"helped\", \"helped\", \"helped\", \"helpful\", \"helpful\", \"helpful\", \"helpful\", \"helpful\", \"highly\", \"highly\", \"holiday\", \"home\", \"home\", \"hope\", \"hope\", \"hope\", \"hopefully\", \"hopefully\", \"husband\", \"husband\", \"husband\", \"immediately\", \"immediately\", \"information\", \"information\", \"information\", \"information\", \"informative\", \"informative\", \"informative\", \"informative\", \"informative\", \"instant\", \"instant\", \"instruction\", \"instruction\", \"instruction\", \"insurance\", \"insurance\", \"insurance\", \"insurance\", \"insurance\", \"insurer\", \"insurer\", \"insurer\", \"issue\", \"issue\", \"issue\", \"knew\", \"knowledgable\", \"knowledgable\", \"knowledgable\", \"knowledgable\", \"knowledge\", \"knowledge\", \"knowledge\", \"knowledge\", \"knowledgeable\", \"knowledgeable\", \"knowledgeable\", \"knowledgeable\", \"knowledgeable\", \"lady\", \"lady\", \"lady\", \"like\", \"like\", \"like\", \"like\", \"like\", \"line\", \"line\", \"line\", \"line\", \"line\", \"lot\", \"lot\", \"lot\", \"love\", \"love\", \"love\", \"made\", \"made\", \"made\", \"made\", \"made\", \"manulife\", \"manulife\", \"may\", \"medical\", \"medical\", \"medical\", \"medical\", \"medical\", \"navigate\", \"navigate\", \"navigate\", \"necessary\", \"need\", \"need\", \"need\", \"need\", \"needed\", \"needed\", \"needed\", \"needed\", \"never\", \"nicholas\", \"obtain\", \"obtain\", \"obtain\", \"obtain\", \"offer\", \"offer\", \"offer\", \"offer\", \"one\", \"one\", \"one\", \"one\", \"online\", \"online\", \"online\", \"online\", \"online\", \"patient\", \"patient\", \"patient\", \"patient\", \"patty\", \"patty\", \"people\", \"people\", \"people\", \"people\", \"perfect\", \"person\", \"person\", \"person\", \"person\", \"personnel\", \"phone\", \"phone\", \"phone\", \"phone\", \"phone\", \"plan\", \"plan\", \"plan\", \"plan\", \"pleasant\", \"pleasant\", \"pleasant\", \"pleasant\", \"pleasant\", \"pleasure\", \"pleasure\", \"point\", \"point\", \"point\", \"policy\", \"policy\", \"policy\", \"policy\", \"policy\", \"polite\", \"polite\", \"polite\", \"positive\", \"positive\", \"pre\", \"pre\", \"pre\", \"price\", \"price\", \"price\", \"price\", \"price\", \"priced\", \"priced\", \"pricing\", \"pricing\", \"pricing\", \"pricing\", \"pricing\", \"prior\", \"process\", \"process\", \"process\", \"process\", \"process\", \"professional\", \"professional\", \"professional\", \"professional\", \"professional\", \"promptly\", \"promptly\", \"promptly\", \"provider\", \"provider\", \"provider\", \"provider\", \"providing\", \"providing\", \"purchase\", \"purchase\", \"purchase\", \"purchase\", \"purchase\", \"purchased\", \"purchased\", \"purchased\", \"purchased\", \"purchased\", \"purchasing\", \"purchasing\", \"purchasing\", \"question\", \"question\", \"question\", \"question\", \"question\", \"quick\", \"quick\", \"quick\", \"quick\", \"quick\", \"quotation\", \"quotation\", \"quote\", \"quote\", \"quote\", \"quote\", \"quote\", \"rate\", \"rate\", \"rate\", \"rate\", \"rate\", \"rather\", \"rating\", \"reasonable\", \"reasonable\", \"reasonable\", \"reasonable\", \"reasonable\", \"reasonably\", \"receive\", \"receive\", \"receive\", \"recommend\", \"recommend\", \"recommend\", \"recommend\", \"recommended\", \"recommended\", \"reliable\", \"rep\", \"rep\", \"rep\", \"rep\", \"rep\", \"representative\", \"representative\", \"representative\", \"representative\", \"representative\", \"requested\", \"return\", \"return\", \"said\", \"said\", \"second\", \"second\", \"second\", \"sense\", \"service\", \"service\", \"service\", \"service\", \"service\", \"simple\", \"simple\", \"simple\", \"simple\", \"simple\", \"since\", \"since\", \"single\", \"single\", \"site\", \"site\", \"site\", \"snow\", \"snow\", \"snowbird\", \"snowbird\", \"snowbird\", \"snowbird\", \"snowbird\", \"something\", \"something\", \"speak\", \"speak\", \"speak\", \"speak\", \"speak\", \"speaking\", \"speaking\", \"speaking\", \"spoke\", \"spoke\", \"spoke\", \"stable\", \"stable\", \"staff\", \"staff\", \"staff\", \"staff\", \"staff\", \"start\", \"start\", \"straight\", \"straight\", \"straightforward\", \"straightforward\", \"straightforward\", \"stuff\", \"stuff\", \"support\", \"support\", \"talk\", \"talk\", \"talk\", \"talked\", \"talked\", \"talked\", \"talking\", \"talking\", \"teresa\", \"teresa\", \"teresa\", \"theresa\", \"theresa\", \"thing\", \"thing\", \"thing\", \"thing\", \"think\", \"think\", \"third\", \"thorough\", \"thorough\", \"time\", \"time\", \"time\", \"time\", \"time\", \"took\", \"took\", \"took\", \"took\", \"top\", \"top\", \"top\", \"top\", \"transaction\", \"transaction\", \"travel\", \"travel\", \"travel\", \"travel\", \"travel\", \"trip\", \"trip\", \"trip\", \"trip\", \"trip\", \"u\", \"u\", \"u\", \"u\", \"u\", \"understand\", \"understand\", \"understand\", \"understand\", \"understanding\", \"understanding\", \"understanding\", \"use\", \"use\", \"use\", \"use\", \"use\", \"used\", \"used\", \"used\", \"used\", \"user\", \"user\", \"user\", \"wait\", \"wait\", \"wait\", \"wait\", \"web\", \"web\", \"website\", \"website\", \"week\", \"week\", \"well\", \"well\", \"well\", \"well\", \"well\", \"wife\", \"wife\", \"wife\", \"within\", \"within\", \"within\", \"within\", \"woman\", \"woman\", \"woman\", \"work\", \"work\", \"work\", \"would\", \"would\", \"would\", \"would\", \"would\", \"year\", \"year\", \"year\", \"year\", \"year\", \"yes\", \"yet\", \"young\", \"young\"]}, \"R\": 30, \"lambda.step\": 0.01, \"plot.opts\": {\"xlab\": \"PC1\", \"ylab\": \"PC2\"}, \"topic.order\": [3, 5, 4, 1, 2]};\n",
       "\n",
       "function LDAvis_load_lib(url, callback){\n",
       "  var s = document.createElement('script');\n",
       "  s.src = url;\n",
       "  s.async = true;\n",
       "  s.onreadystatechange = s.onload = callback;\n",
       "  s.onerror = function(){console.warn(\"failed to load library \" + url);};\n",
       "  document.getElementsByTagName(\"head\")[0].appendChild(s);\n",
       "}\n",
       "\n",
       "if(typeof(LDAvis) !== \"undefined\"){\n",
       "   // already loaded: just create the visualization\n",
       "   !function(LDAvis){\n",
       "       new LDAvis(\"#\" + \"ldavis_el2138018053766816803084357856\", ldavis_el2138018053766816803084357856_data);\n",
       "   }(LDAvis);\n",
       "}else if(typeof define === \"function\" && define.amd){\n",
       "   // require.js is available: use it to load d3/LDAvis\n",
       "   require.config({paths: {d3: \"https://d3js.org/d3.v5\"}});\n",
       "   require([\"d3\"], function(d3){\n",
       "      window.d3 = d3;\n",
       "      LDAvis_load_lib(\"https://cdn.jsdelivr.net/gh/bmabey/pyLDAvis@3.4.0/pyLDAvis/js/ldavis.v3.0.0.js\", function(){\n",
       "        new LDAvis(\"#\" + \"ldavis_el2138018053766816803084357856\", ldavis_el2138018053766816803084357856_data);\n",
       "      });\n",
       "    });\n",
       "}else{\n",
       "    // require.js not available: dynamically load d3 & LDAvis\n",
       "    LDAvis_load_lib(\"https://d3js.org/d3.v5.js\", function(){\n",
       "         LDAvis_load_lib(\"https://cdn.jsdelivr.net/gh/bmabey/pyLDAvis@3.4.0/pyLDAvis/js/ldavis.v3.0.0.js\", function(){\n",
       "                 new LDAvis(\"#\" + \"ldavis_el2138018053766816803084357856\", ldavis_el2138018053766816803084357856_data);\n",
       "            })\n",
       "         });\n",
       "}\n",
       "</script>"
      ],
      "text/plain": [
       "<IPython.core.display.HTML object>"
      ]
     },
     "execution_count": 42,
     "metadata": {},
     "output_type": "execute_result"
    }
   ],
   "source": [
    "import pyLDAvis.gensim_models as gensimvis\n",
    "import pyLDAvis\n",
    "\n",
    "# Prepare the visualization\n",
    "vis_data = gensimvis.prepare(lda_model, corpus, dictionary)\n",
    "\n",
    "# Display the visualization\n",
    "pyLDAvis.display(vis_data)"
   ]
  },
  {
   "cell_type": "code",
   "execution_count": null,
   "metadata": {},
   "outputs": [],
   "source": []
  }
 ],
 "metadata": {
  "kernelspec": {
   "display_name": "Python 3",
   "language": "python",
   "name": "python3"
  },
  "language_info": {
   "codemirror_mode": {
    "name": "ipython",
    "version": 3
   },
   "file_extension": ".py",
   "mimetype": "text/x-python",
   "name": "python",
   "nbconvert_exporter": "python",
   "pygments_lexer": "ipython3",
   "version": "3.12.1"
  }
 },
 "nbformat": 4,
 "nbformat_minor": 2
}
